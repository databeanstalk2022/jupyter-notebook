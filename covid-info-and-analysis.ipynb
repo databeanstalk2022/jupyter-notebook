{
 "cells": [
  {
   "cell_type": "markdown",
   "metadata": {
    "_cell_guid": "b1076dfc-b9ad-4769-8c92-a6c4dae69d19",
    "_uuid": "8f2839f25d086af736a60e9eeb907d3b93b6e0e5",
    "execution": {
     "iopub.execute_input": "2021-11-03T07:57:34.844667Z",
     "iopub.status.busy": "2021-11-03T07:57:34.844394Z",
     "iopub.status.idle": "2021-11-03T07:57:34.860792Z",
     "shell.execute_reply": "2021-11-03T07:57:34.859864Z",
     "shell.execute_reply.started": "2021-11-03T07:57:34.844638Z"
    }
   },
   "source": [
    "## **COVID INFO AND ANALYSIS**"
   ]
  },
  {
   "cell_type": "markdown",
   "metadata": {},
   "source": [
    "## Overview \n",
    "*(Source: WHO)*\n",
    "\n",
    "Coronavirus disease (COVID-19) is an infectious disease caused by the SARS-CoV-2 virus.\n",
    "\n",
    "Most people infected with the virus will experience mild to moderate respiratory illness and recover without requiring special treatment. However, some will become seriously ill and require medical attention. Older people and those with underlying medical conditions like cardiovascular disease, diabetes, chronic respiratory disease, or cancer are more likely to develop serious illness. Anyone can get sick with COVID-19 and become seriously ill or die at any age. \n",
    "\n",
    "The best way to prevent and slow down transmission is to be well informed about the disease and how the virus spreads. Protect yourself and others from infection by staying at least 1 metre apart from others, wearing a properly fitted mask, and washing your hands or using an alcohol-based rub frequently. Get vaccinated when it’s your turn and follow local guidance.\n",
    "\n",
    "The virus can spread from an infected person’s mouth or nose in small liquid particles when they cough, sneeze, speak, sing or breathe. These particles range from larger respiratory droplets to smaller aerosols. It is important to practice respiratory etiquette, for example by coughing into a flexed elbow, and to stay home and self-isolate until you recover if you feel unwell.\n",
    "## We have attempted to show how this deadly virus attacked the world"
   ]
  },
  {
   "cell_type": "markdown",
   "metadata": {},
   "source": [
    "# Initialization"
   ]
  },
  {
   "cell_type": "code",
   "execution_count": null,
   "metadata": {
    "tags": []
   },
   "outputs": [],
   "source": [
    "# This Python 3 environment comes with many helpful analytics libraries installed\n",
    "# For example, here's several helpful packages to load\n",
    "\n",
    "import numpy as np # linear algebra\n",
    "import pandas as pd # data processing, CSV file I/O (e.g. pd.read_csv)\n"
   ]
  },
  {
   "cell_type": "markdown",
   "metadata": {},
   "source": [
    "## "
   ]
  },
  {
   "cell_type": "markdown",
   "metadata": {},
   "source": [
    "# Importing Libraries"
   ]
  },
  {
   "cell_type": "code",
   "execution_count": null,
   "metadata": {
    "tags": []
   },
   "outputs": [],
   "source": [
    "#Data Processing\n",
    "import pandas as pd\n",
    "import numpy as np\n",
    "\n",
    "#Data Visulaisation\n",
    "import plotly.express as px\n",
    "\n",
    "#Machine Learning Libraries\n",
    "import sklearn \n",
    "from sklearn import linear_model\n",
    "from sklearn.utils import shuffle\n",
    "\n",
    "#Miscellaneous\n",
    "import os\n",
    "import warnings\n",
    "warnings.filterwarnings('ignore')"
   ]
  },
  {
   "cell_type": "markdown",
   "metadata": {},
   "source": [
    "# Reading DataSet"
   ]
  },
  {
   "cell_type": "code",
   "execution_count": null,
   "metadata": {},
   "outputs": [],
   "source": [
    "! aws s3 ls s3://databeanstalk-community/data/covid-19/"
   ]
  },
  {
   "cell_type": "code",
   "execution_count": null,
   "metadata": {
    "tags": []
   },
   "outputs": [],
   "source": [
    "def read_data(path,file):\n",
    "     return pd.read_csv(path+\"/\"+file)\n",
    "path = 's3://databeanstalk-community/data/covid-19'\n",
    "world = read_data(path,'worldometer_data.csv')\n",
    "india = read_data(path,'covid_19_india.csv')\n",
    "state = read_data(path,'StatewiseTestingDetails.csv')\n",
    "daily = read_data(path,'nation_level_daily.csv')\n",
    "vac_data = read_data(path,'country_vaccinations.csv')\n",
    "pop_data = read_data(path,'worldometer_data.csv')\n",
    "vac_manu = read_data(path,'country_vaccinations_by_manufacturer.csv')\n",
    "state_vac=read_data(path,'covid_vaccine_statewise.csv')\n",
    "daily_records=read_data(path,'day_wise.csv')"
   ]
  },
  {
   "cell_type": "markdown",
   "metadata": {},
   "source": [
    "# Data Cleaning \n",
    "## Making the data more usable for working with it "
   ]
  },
  {
   "cell_type": "code",
   "execution_count": null,
   "metadata": {
    "tags": []
   },
   "outputs": [],
   "source": [
    "# For world Vaccination Dataset\n",
    "usa_vac = vac_data[vac_data['country'] == 'United States']\n",
    "uk_vac = vac_data[vac_data['country'] == 'United Kingdom']\n",
    "ger_vac = vac_data[vac_data['country'] == 'Germany']\n",
    "ita_vac = vac_data[vac_data['country'] == 'Italy']\n",
    "fra_vac = vac_data[vac_data['country'] == 'France']\n",
    "chi_vac = vac_data[vac_data['country'] == 'China']\n",
    "rus_vac = vac_data[vac_data['country'] == 'Russia']\n",
    "isr_vac = vac_data[vac_data['country'] == 'Israel']\n",
    "uae_vac = vac_data[vac_data['country'] == 'United Arab Emirates']\n",
    "can_vac = vac_data[vac_data['country'] == 'Canada']\n",
    "jpn_vac = vac_data[vac_data['country'] == 'Japan']\n",
    "ind_vac = vac_data[vac_data['country'] == 'India']\n",
    "ino_vac = vac_data[vac_data['country'] == 'Indonesia']\n",
    "mal_vac = vac_data[vac_data['country'] == 'Malaysia']\n",
    "ban_vac = vac_data[vac_data['country'] == 'Bangladesh']\n",
    "nig_vac = vac_data[vac_data['country'] == 'Nigeria']\n",
    "phi_vac = vac_data[vac_data['country'] == 'Phillipines']\n",
    "vie_vac = vac_data[vac_data['country'] == 'Vietnam']\n",
    "egy_vac = vac_data[vac_data['country'] == 'Egypt']\n",
    "pak_vac = vac_data[vac_data['country'] == 'Pakistan']\n",
    "usa_vac.drop(usa_vac[usa_vac['daily_vaccinations'].isnull()].index, inplace=True)\n",
    "uk_vac.drop(uk_vac[uk_vac['daily_vaccinations'].isnull()].index, inplace=True)\n",
    "ger_vac.drop(ger_vac[ger_vac['daily_vaccinations'].isnull()].index, inplace=True)\n",
    "ita_vac.drop(ita_vac[ita_vac['daily_vaccinations'].isnull()].index, inplace=True)\n",
    "fra_vac.drop(fra_vac[fra_vac['daily_vaccinations'].isnull()].index, inplace=True)\n",
    "chi_vac.drop(chi_vac[chi_vac['daily_vaccinations'].isnull()].index, inplace=True)\n",
    "rus_vac.drop(rus_vac[rus_vac['daily_vaccinations'].isnull()].index, inplace=True)\n",
    "isr_vac.drop(isr_vac[isr_vac['daily_vaccinations'].isnull()].index, inplace=True)\n",
    "uae_vac.drop(uae_vac[uae_vac['daily_vaccinations'].isnull()].index, inplace=True)\n",
    "can_vac.drop(can_vac[can_vac['daily_vaccinations'].isnull()].index, inplace=True)\n",
    "jpn_vac.drop(jpn_vac[jpn_vac['daily_vaccinations'].isnull()].index, inplace=True)\n",
    "ind_vac.drop(ind_vac[ind_vac['daily_vaccinations'].isnull()].index, inplace=True)\n",
    "ino_vac.drop(ino_vac[ino_vac['daily_vaccinations'].isnull()].index, inplace=True)\n",
    "mal_vac.drop(mal_vac[mal_vac['daily_vaccinations'].isnull()].index, inplace=True)\n",
    "ban_vac.drop(ban_vac[ban_vac['daily_vaccinations'].isnull()].index, inplace=True)\n",
    "nig_vac.drop(nig_vac[nig_vac['daily_vaccinations'].isnull()].index, inplace=True)\n",
    "phi_vac.drop(phi_vac[phi_vac['daily_vaccinations'].isnull()].index, inplace=True)\n",
    "vie_vac.drop(vie_vac[vie_vac['daily_vaccinations'].isnull()].index, inplace=True)\n",
    "egy_vac.drop(egy_vac[egy_vac['daily_vaccinations'].isnull()].index, inplace=True)\n",
    "pak_vac.drop(pak_vac[pak_vac['daily_vaccinations'].isnull()].index, inplace=True)\n"
   ]
  },
  {
   "cell_type": "code",
   "execution_count": null,
   "metadata": {
    "tags": []
   },
   "outputs": [],
   "source": [
    "#For Indian Vaccination Dataset\n",
    "df2=state_vac\n",
    "df2 = df2.rename(columns= {'Updated On':'Date','Total Doses Administered':'TotalDoses','Male(Individuals Vaccinated)':'Male','Female(Individuals Vaccinated)':'Female', 'Total Individuals Vaccinated':'TotalVaccinated',' Covaxin (Doses Administered)':'Covaxin','CoviShield (Doses Administered)':'CoviShield','Sputnik V (Doses Administered)':'Sputnik'})\n",
    "df2.Date = pd.to_datetime(df2.Date, format=\"%d/%m/%Y\")\n",
    "df3=india\n",
    "df1=state\n",
    "df2 = df2[df2['State'] !='India']\n",
    "df2 = df2.rename(columns= {'Updated On':'Date','Total Doses Administered':'TotalDoses','Male(Individuals Vaccinated)':'Male','Female(Individuals Vaccinated)':'Female', 'Total Individuals Vaccinated':'TotalVaccinated',' Covaxin (Doses Administered)':'Covaxin','CoviShield (Doses Administered)':'CoviShield','Sputnik V (Doses Administered)':'Sputnik'})\n",
    "df2.Date = pd.to_datetime(df2.Date, format=\"%d/%m/%Y\")\n",
    "df2_2=df2[df2['Date']==\"2021-08-9\"]\n",
    "df2_2.dropna()\n",
    "df2_1 = df3[df3['Date']=='2021-08-11']"
   ]
  },
  {
   "cell_type": "markdown",
   "metadata": {},
   "source": [
    "# Data Visualization"
   ]
  },
  {
   "cell_type": "markdown",
   "metadata": {},
   "source": [
    "## World Dataset"
   ]
  },
  {
   "cell_type": "code",
   "execution_count": null,
   "metadata": {
    "tags": []
   },
   "outputs": [],
   "source": [
    "features=['TotalCases','TotalDeaths','TotalRecovered','ActiveCases']\n",
    "for i in features:\n",
    "    fig=px.treemap(world.iloc[0:25],\n",
    "               values=i,\n",
    "               path=['Country/Region'],\n",
    "               template='plotly_dark',\n",
    "               title=\"Tree Map depicting Impact of Covid-19 w.r.t {}\".format(i))\n",
    "    fig.show()"
   ]
  },
  {
   "cell_type": "code",
   "execution_count": null,
   "metadata": {
    "tags": []
   },
   "outputs": [],
   "source": [
    "px.line(daily_records,\n",
    "       x='Date',\n",
    "       y=['Confirmed', 'Deaths', 'Recovered','Active'],\n",
    "       template='plotly_dark',\n",
    "       title='Daily trends of Covid-19 cases',\n",
    "       labels={'Date':'Month','value':'Statistics'})"
   ]
  },
  {
   "cell_type": "code",
   "execution_count": null,
   "metadata": {
    "tags": []
   },
   "outputs": [],
   "source": [
    "fig2=px.bar(world.iloc[0:20][::-1],\n",
    "      y='Country/Region',\n",
    "      x=['TotalCases','TotalRecovered', 'ActiveCases','TotalDeaths','Serious,Critical'],\n",
    "      template='plotly_dark',\n",
    "      title='Severly Hit Countries')\n",
    "fig2.update_xaxes(tickangle=270)\n",
    "fig2.show()"
   ]
  },
  {
   "cell_type": "code",
   "execution_count": null,
   "metadata": {
    "tags": []
   },
   "outputs": [],
   "source": [
    "px.pie(world.iloc[0:20],\n",
    "       names='Country/Region',\n",
    "       values='TotalCases',\n",
    "      template='plotly_dark',\n",
    "      title='Distribution of Total Cases ')"
   ]
  },
  {
   "cell_type": "markdown",
   "metadata": {},
   "source": [
    "## Indian Dataset"
   ]
  },
  {
   "cell_type": "code",
   "execution_count": null,
   "metadata": {
    "tags": []
   },
   "outputs": [],
   "source": [
    "from plotly.subplots import make_subplots\n",
    "import plotly.graph_objects as go\n",
    "\n",
    "grouped_data=read_data(path,'full_grouped.csv')\n",
    "grouped_data.head()\n",
    "\n",
    "def country_visualisations(df,country):\n",
    "    data_group=df[df['Country/Region']==country]\n",
    "    data=data_group.loc[:,['Date','Confirmed','Deaths','Recovered','Active']]\n",
    "    figure1=make_subplots(rows=1,cols=4,subplot_titles=('Confirmed','Active','Recovered','Deaths'))\n",
    "    \n",
    "    figure1.add_trace(go.Scatter(name='Confirmed',x=data['Date'],y=data['Confirmed']),row=1,col=1)\n",
    "    \n",
    "    figure1.add_trace(go.Scatter(name='Active',x=data['Date'],y=data['Active']),row=1,col=2)\n",
    "        \n",
    "    figure1.add_trace(go.Scatter(name='Recovered',x=data['Date'],y=data['Recovered']),row=1,col=3)\n",
    "    \n",
    "    figure1.add_trace(go.Scatter(name='Deaths',x=data['Date'],y=data['Deaths']),row=1,col=4)\n",
    "    \n",
    "    figure1.update_layout(height=500,\n",
    "                         width=2000,\n",
    "                         title_text='Recorded Cases in {}'.format(country),\n",
    "                         template='plotly_dark')\n",
    "    figure1.show()"
   ]
  },
  {
   "cell_type": "code",
   "execution_count": null,
   "metadata": {
    "tags": []
   },
   "outputs": [],
   "source": [
    "country_visualisations(grouped_data,'India')\n",
    "country_visualisations(grouped_data,'Peru')"
   ]
  },
  {
   "cell_type": "markdown",
   "metadata": {},
   "source": [
    "## World Vaccination Situation "
   ]
  },
  {
   "cell_type": "code",
   "execution_count": null,
   "metadata": {
    "tags": []
   },
   "outputs": [],
   "source": [
    "fig = go.Figure()\n",
    "fig.add_trace(go.Scatter(x=usa_vac['date'], y=usa_vac['daily_vaccinations'], mode='lines+markers', name='USA'))\n",
    "fig.add_trace(go.Scatter(x=uk_vac['date'],y=uk_vac['daily_vaccinations'], mode='lines+markers', name='UK'))\n",
    "fig.add_trace(go.Scatter(x=ger_vac['date'],y=ger_vac['daily_vaccinations'], mode='lines+markers', name='Germany'))\n",
    "fig.add_trace(go.Scatter(x=ind_vac['date'],y=ind_vac['daily_vaccinations'], mode='lines+markers', name='India'))\n",
    "fig.update_layout(title='Comparison of Daily Vaccinations' , template='plotly_dark' )\n",
    "fig.show()"
   ]
  },
  {
   "cell_type": "markdown",
   "metadata": {},
   "source": [
    "## Indian Situation"
   ]
  },
  {
   "cell_type": "markdown",
   "metadata": {},
   "source": [
    "### Testing Situation In India"
   ]
  },
  {
   "cell_type": "code",
   "execution_count": null,
   "metadata": {
    "tags": []
   },
   "outputs": [],
   "source": [
    "state.Date = pd.to_datetime(state.Date, format=\"%Y/%m/%d\")\n",
    "fig = px.line(state, x='Date', y='TotalSamples', color='State', title='Total number of samples collected for Covid-19 testing(Statewise)' , template=\"plotly_dark\")\n",
    "\n",
    "fig.show()"
   ]
  },
  {
   "cell_type": "markdown",
   "metadata": {},
   "source": [
    "### Result of Testing\n"
   ]
  },
  {
   "cell_type": "code",
   "execution_count": null,
   "metadata": {
    "tags": []
   },
   "outputs": [],
   "source": [
    "fig = px.bar(df2_1, x='State/UnionTerritory', y=['Confirmed','Cured','Deaths'], template=\"plotly_dark\")\n",
    "fig.update_layout(xaxis={'categoryorder':'total descending'})\n",
    "fig.show()"
   ]
  },
  {
   "cell_type": "markdown",
   "metadata": {},
   "source": [
    "### Indian Vaccination Status"
   ]
  },
  {
   "cell_type": "code",
   "execution_count": null,
   "metadata": {
    "tags": []
   },
   "outputs": [],
   "source": [
    "fig = px.bar(df2_2, x='State', y='TotalDoses',title='Total Doses (Jan-Aug)',template=\"plotly_dark\")\n",
    "fig.update_traces(textposition='outside')\n",
    "fig.update_layout(xaxis={'categoryorder':'total descending'})\n",
    "fig.update_xaxes(tickfont=dict(size=14))\n",
    "fig.update_yaxes(tickfont=dict(size=14))\n",
    "fig.show()"
   ]
  },
  {
   "cell_type": "code",
   "execution_count": null,
   "metadata": {
    "tags": []
   },
   "outputs": [],
   "source": [
    "fig = px.bar(df2_2, x=\"State\", y=[\"Covaxin\", \"CoviShield\",'TotalDoses'], template=\"plotly_dark\")\n",
    "\n",
    "fig.update_layout(barmode='stack',legend_orientation=\"h\",legend=dict(x= 0.3, y=1.0),\n",
    "                  xaxis={'categoryorder':'total descending'},\n",
    "                 title_text='<b>Covid-19 Total Vaccinations in India according to type of vaccine<b>',\n",
    "                  title_x=0.5,\n",
    "                  width= 1100,\n",
    "                  height= 500\n",
    "                 )\n",
    "fig.update_xaxes(tickfont=dict(size=14))\n",
    "fig.update_yaxes(tickfont=dict(size=14))\n",
    "fig.show()"
   ]
  },
  {
   "cell_type": "markdown",
   "metadata": {},
   "source": [
    "# Machine Learning Part"
   ]
  },
  {
   "cell_type": "markdown",
   "metadata": {},
   "source": [
    "## Attempt At Linear Regression "
   ]
  },
  {
   "cell_type": "code",
   "execution_count": null,
   "metadata": {
    "tags": []
   },
   "outputs": [],
   "source": [
    "from sklearn import model_selection\n",
    "from sklearn.linear_model import LinearRegression\n",
    "df2_1=df2_1[df2_1['State/UnionTerritory']!='Maharashtra']\n",
    "states_clubbed=df2_1[[\"Confirmed\",\"Cured\",\"Deaths\"]]\n",
    "predict=\"Deaths\"\n",
    "X=np.array(states_clubbed.drop(predict,1))\n",
    "y=np.array(states_clubbed[predict])\n",
    "X_train, X_test, y_train, y_test = model_selection.train_test_split(X, y, test_size=0.25)\n",
    "linear = LinearRegression()\n",
    "linear.fit(X_train,y_train)\n",
    "Y_pred = linear.predict(X_test)\n",
    "print(linear.score(X_test, y_test))\n",
    "print(linear.score(X_train,y_train))\n"
   ]
  },
  {
   "cell_type": "code",
   "execution_count": null,
   "metadata": {
    "tags": []
   },
   "outputs": [],
   "source": [
    "df2_1\n",
    "fig = px.scatter(df2_1, x='Cured', y='Deaths', template=\"plotly_dark\")\n",
    "fig.show()"
   ]
  }
 ],
 "metadata": {
  "kernelspec": {
   "display_name": "Python 3",
   "language": "python",
   "name": "python3"
  },
  "language_info": {
   "codemirror_mode": {
    "name": "ipython",
    "version": 3
   },
   "file_extension": ".py",
   "mimetype": "text/x-python",
   "name": "python",
   "nbconvert_exporter": "python",
   "pygments_lexer": "ipython3",
   "version": "3.9.2"
  }
 },
 "nbformat": 4,
 "nbformat_minor": 4
}
