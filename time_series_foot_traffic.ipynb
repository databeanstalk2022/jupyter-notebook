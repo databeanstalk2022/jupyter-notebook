{
 "cells": [
  {
   "cell_type": "code",
   "execution_count": 1,
   "id": "bbf6a770-6207-4d9f-960d-94fe2c96cd13",
   "metadata": {},
   "outputs": [
    {
     "name": "stdout",
     "output_type": "stream",
     "text": [
      "Starting Spark application\n"
     ]
    },
    {
     "data": {
      "text/html": [
       "<table>\n",
       "<tr><th>ID</th><th>YARN Application ID</th><th>Kind</th><th>State</th><th>Spark UI</th><th>Driver log</th><th>Current session?</th></tr><tr><td>0</td><td>spark-be88605473ed44abbde1a98d0af32961</td><td>pyspark</td><td>idle</td><td></td><td></td><td>✔</td></tr></table>"
      ],
      "text/plain": [
       "<IPython.core.display.HTML object>"
      ]
     },
     "metadata": {},
     "output_type": "display_data"
    },
    {
     "data": {
      "application/vnd.jupyter.widget-view+json": {
       "model_id": "",
       "version_major": 2,
       "version_minor": 0
      },
      "text/plain": [
       "FloatProgress(value=0.0, bar_style='info', description='Progress:', layout=Layout(height='25px', width='50%'),…"
      ]
     },
     "metadata": {},
     "output_type": "display_data"
    },
    {
     "name": "stdout",
     "output_type": "stream",
     "text": [
      "SparkSession available as 'spark'.\n"
     ]
    },
    {
     "data": {
      "application/vnd.jupyter.widget-view+json": {
       "model_id": "",
       "version_major": 2,
       "version_minor": 0
      },
      "text/plain": [
       "FloatProgress(value=0.0, bar_style='info', description='Progress:', layout=Layout(height='25px', width='50%'),…"
      ]
     },
     "metadata": {},
     "output_type": "display_data"
    },
    {
     "name": "stdout",
     "output_type": "stream",
     "text": [
      "<SparkContext master=k8s://https://kubernetes.default.svc.cluster.local:443 appName=livy-session-0>"
     ]
    }
   ],
   "source": [
    "sc"
   ]
  },
  {
   "cell_type": "code",
   "execution_count": 5,
   "id": "6caf0f19-2962-4a71-a390-532ec13491a6",
   "metadata": {},
   "outputs": [
    {
     "data": {
      "application/vnd.jupyter.widget-view+json": {
       "model_id": "",
       "version_major": 2,
       "version_minor": 0
      },
      "text/plain": [
       "FloatProgress(value=0.0, bar_style='info', description='Progress:', layout=Layout(height='25px', width='50%'),…"
      ]
     },
     "metadata": {},
     "output_type": "display_data"
    }
   ],
   "source": [
    "raw_sim_ft = spark.read.format(\"csv\").option(\"header\", \"true\").option(\"sep\", \",\").load(\"s3a://databeanstalk-community/data/safegraph_patterns_simulated__1_-91d51.csv\")\n",
    "raw_sim_ft.createOrReplaceTempView(\"safegraph_sim_foot_traffic\")"
   ]
  },
  {
   "cell_type": "code",
   "execution_count": 6,
   "id": "8e815bc1-8edd-4333-a03c-faa2fe68ce76",
   "metadata": {},
   "outputs": [
    {
     "data": {
      "application/vnd.jupyter.widget-view+json": {
       "model_id": "",
       "version_major": 2,
       "version_minor": 0
      },
      "text/plain": [
       "FloatProgress(value=0.0, bar_style='info', description='Progress:', layout=Layout(height='25px', width='50%'),…"
      ]
     },
     "metadata": {},
     "output_type": "display_data"
    }
   ],
   "source": [
    "safegraph_patterns = spark.sql(\"\"\"\n",
    "select x.*, INT(YEAR(FROM_UNIXTIME(date_range_start))) as year, \n",
    "                                        INT(MONTH(FROM_UNIXTIME(date_range_start))) as month, \n",
    "                                       case when region in ('NY', 'PA', 'NJ') then 'NYC MSA' else 'US' end msa, location_name\n",
    "from safegraph_sim_foot_traffic x\"\"\")"
   ]
  },
  {
   "cell_type": "code",
   "execution_count": 7,
   "id": "a0d6ff52-f489-462d-8024-1bf0143b1182",
   "metadata": {},
   "outputs": [
    {
     "data": {
      "application/vnd.jupyter.widget-view+json": {
       "model_id": "",
       "version_major": 2,
       "version_minor": 0
      },
      "text/plain": [
       "FloatProgress(value=0.0, bar_style='info', description='Progress:', layout=Layout(height='25px', width='50%'),…"
      ]
     },
     "metadata": {},
     "output_type": "display_data"
    },
    {
     "name": "stdout",
     "output_type": "stream",
     "text": [
      "408"
     ]
    }
   ],
   "source": [
    "# Function to extract ARRAY or JSON columns for deeper analysis\n",
    "from pyspark.sql.functions import udf, explode\n",
    "from pyspark.sql.types import *\n",
    "from pyspark.sql.functions import *\n",
    "import json\n",
    "\n",
    "def parser(element):\n",
    "  return json.loads(element)\n",
    "\n",
    "def parser_maptype(element):\n",
    "  return json.loads(element, MapType(StringType(), IntegerType()))\n",
    "\n",
    "jsonudf = udf(parser, MapType(StringType(), IntegerType()))\n",
    "\n",
    "convert_array_to_dict_udf = udf(lambda arr: {idx: x for idx, x in enumerate(json.loads(arr))}, MapType(StringType(), IntegerType()))\n",
    "\n",
    "def explode_json_column_with_labels(df_parsed, column_to_explode, key_col=\"key\", value_col=\"value\"):\n",
    "  df_exploded = df_parsed.select(\"safegraph_place_id\", \"location_name\", \"msa\", \"date_range_start\", \"year\", \"month\", \"date_range_end\", explode(column_to_explode)).selectExpr(\"safegraph_place_id\", \"date_range_end\", \"location_name\",\"msa\", \"date_range_start\", \"year\", \"month\", \"key as {0}\".format(key_col), \"value as {0}\".format(value_col))\n",
    "  return(df_exploded)\n",
    "\n",
    "def explode_safegraph_json_column(df, column_to_explode, key_col=\"key\", value_col=\"value\"):\n",
    "  df_parsed = df.withColumn(\"parsed_\"+column_to_explode, jsonudf(column_to_explode))\n",
    "  df_exploded = explode_json_column_with_labels(df_parsed, \"parsed_\"+column_to_explode, key_col=key_col, value_col=value_col)\n",
    "  return(df_exploded)\n",
    "\n",
    "def explode_safegraph_array_colum(df, column_to_explode, key_col=\"index\", value_col=\"value\"):\n",
    "  df_prepped = df.select(\"safegraph_place_id\", \"location_name\", \"msa\", \"date_range_start\", \"year\", \"month\", \"date_range_end\", column_to_explode).withColumn(column_to_explode+\"_dict\", convert_array_to_dict_udf(column_to_explode))\n",
    "  df_exploded = explode_json_column_with_labels(df_prepped, column_to_explode=column_to_explode+\"_dict\", key_col=key_col, value_col=value_col)\n",
    "  return(df_exploded)\n",
    "\n",
    "def explode_safegraph_visits_by_day_column(df, column_to_explode, key_col=\"index\", value_col=\"value\"):\n",
    "  df_exploded = explode_safegraph_array_colum(df, column_to_explode, key_col=key_col, value_col=value_col)\n",
    "  df_exploded = df_exploded.withColumn(key_col, col(key_col) + 1) # 1-indexed instead of 0-indexed\n",
    "  return(df_exploded)\n",
    "\n",
    "\n",
    "visits_by_day = explode_safegraph_visits_by_day_column(safegraph_patterns, column_to_explode=\"visits_by_day\", key_col=\"day\", value_col=\"num_visits\")\n",
    "print(visits_by_day.count())\n",
    "visits_by_day.createOrReplaceTempView('visits_by_day')"
   ]
  },
  {
   "cell_type": "code",
   "execution_count": 8,
   "id": "27f947e5-16e4-4cd5-a2b1-450c24dedb48",
   "metadata": {},
   "outputs": [
    {
     "data": {
      "application/vnd.jupyter.widget-view+json": {
       "model_id": "",
       "version_major": 2,
       "version_minor": 0
      },
      "text/plain": [
       "FloatProgress(value=0.0, bar_style='info', description='Progress:', layout=Layout(height='25px', width='50%'),…"
      ]
     },
     "metadata": {},
     "output_type": "display_data"
    },
    {
     "data": {
      "application/vnd.jupyter.widget-view+json": {
       "model_id": "1c22995178624405acf697f63a4127ca",
       "version_major": 2,
       "version_minor": 0
      },
      "text/plain": [
       "VBox(children=(HBox(), EncodingWidget(children=(VBox(children=(HTML(value='Encoding:'), Dropdown(description='…"
      ]
     },
     "metadata": {},
     "output_type": "display_data"
    },
    {
     "data": {
      "application/vnd.jupyter.widget-view+json": {
       "model_id": "51bcb1b3b0d940f892e844aa2053ba09",
       "version_major": 2,
       "version_minor": 0
      },
      "text/plain": [
       "Output()"
      ]
     },
     "metadata": {},
     "output_type": "display_data"
    }
   ],
   "source": [
    "%%sql \n",
    "create or replace temp view ft_raw as select * from visits_by_day"
   ]
  },
  {
   "cell_type": "code",
   "execution_count": 9,
   "id": "929ad80c-0899-4653-95f6-3cb8232ed3a0",
   "metadata": {},
   "outputs": [
    {
     "data": {
      "application/vnd.jupyter.widget-view+json": {
       "model_id": "",
       "version_major": 2,
       "version_minor": 0
      },
      "text/plain": [
       "FloatProgress(value=0.0, bar_style='info', description='Progress:', layout=Layout(height='25px', width='50%'),…"
      ]
     },
     "metadata": {},
     "output_type": "display_data"
    },
    {
     "data": {
      "application/vnd.jupyter.widget-view+json": {
       "model_id": "6ea6f1542aac4a64a9bb6f39a850cb8a",
       "version_major": 2,
       "version_minor": 0
      },
      "text/plain": [
       "VBox(children=(HBox(children=(HTML(value='Type:'), Button(description='Table', layout=Layout(width='70px'), st…"
      ]
     },
     "metadata": {},
     "output_type": "display_data"
    },
    {
     "data": {
      "application/vnd.jupyter.widget-view+json": {
       "model_id": "3120dd265f834a618fc6cef74b818963",
       "version_major": 2,
       "version_minor": 0
      },
      "text/plain": [
       "Output()"
      ]
     },
     "metadata": {},
     "output_type": "display_data"
    }
   ],
   "source": [
    "%%sql\n",
    "select * from ft_raw with limit 5;"
   ]
  },
  {
   "cell_type": "code",
   "execution_count": 14,
   "id": "2d7b8972-d07d-434d-8c53-5bf0a75302a6",
   "metadata": {},
   "outputs": [
    {
     "data": {
      "application/vnd.jupyter.widget-view+json": {
       "model_id": "",
       "version_major": 2,
       "version_minor": 0
      },
      "text/plain": [
       "FloatProgress(value=0.0, bar_style='info', description='Progress:', layout=Layout(height='25px', width='50%'),…"
      ]
     },
     "metadata": {},
     "output_type": "display_data"
    },
    {
     "data": {
      "application/vnd.jupyter.widget-view+json": {
       "model_id": "e9d49ea835c14e1186175c805747b9fa",
       "version_major": 2,
       "version_minor": 0
      },
      "text/plain": [
       "VBox(children=(HBox(), EncodingWidget(children=(VBox(children=(HTML(value='Encoding:'), Dropdown(description='…"
      ]
     },
     "metadata": {},
     "output_type": "display_data"
    },
    {
     "data": {
      "application/vnd.jupyter.widget-view+json": {
       "model_id": "fc4cef07a8154e23929529adb3770bd1",
       "version_major": 2,
       "version_minor": 0
      },
      "text/plain": [
       "Output()"
      ]
     },
     "metadata": {},
     "output_type": "display_data"
    }
   ],
   "source": [
    "%%sql\n",
    "create or replace temp view dunkin_foot_traffic  as select * from ft_raw where location_name = \"Dunkin'\""
   ]
  },
  {
   "cell_type": "code",
   "execution_count": 15,
   "id": "b36b91f1-d078-47f4-87f8-503132c052af",
   "metadata": {},
   "outputs": [
    {
     "data": {
      "application/vnd.jupyter.widget-view+json": {
       "model_id": "",
       "version_major": 2,
       "version_minor": 0
      },
      "text/plain": [
       "FloatProgress(value=0.0, bar_style='info', description='Progress:', layout=Layout(height='25px', width='50%'),…"
      ]
     },
     "metadata": {},
     "output_type": "display_data"
    },
    {
     "data": {
      "application/vnd.jupyter.widget-view+json": {
       "model_id": "e88dd39902f54812bccdefb4445367de",
       "version_major": 2,
       "version_minor": 0
      },
      "text/plain": [
       "VBox(children=(HBox(children=(HTML(value='Type:'), Button(description='Table', layout=Layout(width='70px'), st…"
      ]
     },
     "metadata": {},
     "output_type": "display_data"
    },
    {
     "data": {
      "application/vnd.jupyter.widget-view+json": {
       "model_id": "36051026212f4a9589d2260e7241b8f5",
       "version_major": 2,
       "version_minor": 0
      },
      "text/plain": [
       "Output()"
      ]
     },
     "metadata": {},
     "output_type": "display_data"
    }
   ],
   "source": [
    "%%sql\n",
    "select * from dunkin_foot_traffic with limit 5;"
   ]
  },
  {
   "cell_type": "code",
   "execution_count": 17,
   "id": "18b6282e-7b00-4471-aa02-cf230ccf8701",
   "metadata": {},
   "outputs": [
    {
     "data": {
      "application/vnd.jupyter.widget-view+json": {
       "model_id": "",
       "version_major": 2,
       "version_minor": 0
      },
      "text/plain": [
       "FloatProgress(value=0.0, bar_style='info', description='Progress:', layout=Layout(height='25px', width='50%'),…"
      ]
     },
     "metadata": {},
     "output_type": "display_data"
    }
   ],
   "source": [
    "pdf = spark.sql(\"select * from (select cast(year as integer) year, cast(month as integer) month, cast(day as integer) day, sum(num_visits) num_vists from dunkin_foot_traffic where msa = 'NYC MSA' and cast(concat(year, '-', lpad(cast(month as integer), 2, '0'), '-', lpad(cast(day as integer), 2, '0')) as date) <= '2020-01-12' group by cast(year as integer), cast(month as integer), cast(day as integer)) foo where year is not null\").toPandas()"
   ]
  },
  {
   "cell_type": "code",
   "execution_count": 18,
   "id": "52219429-b4b6-47eb-b085-7ecd28b0b1f2",
   "metadata": {},
   "outputs": [
    {
     "data": {
      "application/vnd.jupyter.widget-view+json": {
       "model_id": "",
       "version_major": 2,
       "version_minor": 0
      },
      "text/plain": [
       "FloatProgress(value=0.0, bar_style='info', description='Progress:', layout=Layout(height='25px', width='50%'),…"
      ]
     },
     "metadata": {},
     "output_type": "display_data"
    }
   ],
   "source": [
    "all_nyc_dunkin = spark.sql(\"select * from (select cast(year as integer) year, cast(month as integer) month, cast(day as integer) day, sum(num_visits) num_vists from dunkin_foot_traffic where msa = 'NYC MSA' and cast(concat(year, '-', lpad(cast(month as integer), 2, '0'), '-', lpad(cast(day as integer), 2, '0')) as date) <= '2020-01-12' group by cast(year as integer), cast(month as integer), cast(day as integer)) foo where year is not null\").toPandas()"
   ]
  },
  {
   "cell_type": "code",
   "execution_count": 19,
   "id": "ddf0c04d-d2b6-45dd-8314-6412113fff18",
   "metadata": {},
   "outputs": [
    {
     "data": {
      "application/vnd.jupyter.widget-view+json": {
       "model_id": "",
       "version_major": 2,
       "version_minor": 0
      },
      "text/plain": [
       "FloatProgress(value=0.0, bar_style='info', description='Progress:', layout=Layout(height='25px', width='50%'),…"
      ]
     },
     "metadata": {},
     "output_type": "display_data"
    }
   ],
   "source": [
    "actual = spark.sql(\"select * from (select cast(year as integer) year, cast(month as integer) month, cast(day as integer) day, sum(num_visits) num_vists from dunkin_foot_traffic where msa = 'NYC MSA' and cast(concat(year, '-', lpad(cast(month as integer), 2, '0'), '-', lpad(cast(day as integer), 2, '0')) as date) > '2020-01-12'  group by cast(year as integer), cast(month as integer), cast(day as integer)) foo where year is not null\").toPandas()"
   ]
  },
  {
   "cell_type": "code",
   "execution_count": 20,
   "id": "67f243e4-a567-460b-b47e-a307c46d6f35",
   "metadata": {},
   "outputs": [
    {
     "data": {
      "application/vnd.jupyter.widget-view+json": {
       "model_id": "",
       "version_major": 2,
       "version_minor": 0
      },
      "text/plain": [
       "FloatProgress(value=0.0, bar_style='info', description='Progress:', layout=Layout(height='25px', width='50%'),…"
      ]
     },
     "metadata": {},
     "output_type": "display_data"
    }
   ],
   "source": [
    "all_nyc_dunkin_actual = spark.sql(\"select * from (select cast(year as integer) year, cast(month as integer) month, cast(day as integer) day, sum(num_visits) num_vists from dunkin_foot_traffic where msa = 'NYC MSA' and cast(concat(year, '-', lpad(cast(month as integer), 2, '0'), '-', lpad(cast(day as integer), 2, '0')) as date) > '2020-01-12'  group by cast(year as integer), cast(month as integer), cast(day as integer)) foo where year is not null\").toPandas()"
   ]
  },
  {
   "cell_type": "code",
   "execution_count": 21,
   "id": "cd8bd028-4c52-400a-8c8a-00e9381f30f7",
   "metadata": {},
   "outputs": [
    {
     "data": {
      "application/vnd.jupyter.widget-view+json": {
       "model_id": "",
       "version_major": 2,
       "version_minor": 0
      },
      "text/plain": [
       "FloatProgress(value=0.0, bar_style='info', description='Progress:', layout=Layout(height='25px', width='50%'),…"
      ]
     },
     "metadata": {},
     "output_type": "display_data"
    }
   ],
   "source": [
    "import pandas as pd \n",
    "pdf['date'] = pd.to_datetime(pdf[[\"year\", \"month\", \"day\"]])\n",
    "all_nyc_dunkin['date'] = pd.to_datetime(all_nyc_dunkin[[\"year\", \"month\", \"day\"]])"
   ]
  },
  {
   "cell_type": "code",
   "execution_count": 22,
   "id": "0589b6d0-140e-49a2-bd58-fa5d9d2be58e",
   "metadata": {},
   "outputs": [
    {
     "data": {
      "application/vnd.jupyter.widget-view+json": {
       "model_id": "",
       "version_major": 2,
       "version_minor": 0
      },
      "text/plain": [
       "FloatProgress(value=0.0, bar_style='info', description='Progress:', layout=Layout(height='25px', width='50%'),…"
      ]
     },
     "metadata": {},
     "output_type": "display_data"
    }
   ],
   "source": [
    "pdf = pdf.sort_values('date')\n",
    "all_nyc_dunkin = all_nyc_dunkin.sort_values('date')"
   ]
  },
  {
   "cell_type": "code",
   "execution_count": 28,
   "id": "17b1bbd2-b3cf-4f1c-bd28-1528373bca4d",
   "metadata": {},
   "outputs": [
    {
     "data": {
      "application/vnd.jupyter.widget-view+json": {
       "model_id": "",
       "version_major": 2,
       "version_minor": 0
      },
      "text/plain": [
       "FloatProgress(value=0.0, bar_style='info', description='Progress:', layout=Layout(height='25px', width='50%'),…"
      ]
     },
     "metadata": {},
     "output_type": "display_data"
    }
   ],
   "source": [
    "pdf['ds'] = pdf['date']\n",
    "pdf = pdf.sort_values('date')\n",
    "pdf['y'] = pdf['num_vists']\n",
    "\n",
    "all_nyc_dunkin['ds'] = all_nyc_dunkin['date']\n",
    "all_nyc_dunkin = all_nyc_dunkin.sort_values('date')\n",
    "all_nyc_dunkin['y'] = all_nyc_dunkin['num_vists']"
   ]
  },
  {
   "cell_type": "code",
   "execution_count": 29,
   "id": "26bb1f8d-dedf-4ec8-b2c9-d4b1a00b0dab",
   "metadata": {},
   "outputs": [
    {
     "data": {
      "application/vnd.jupyter.widget-view+json": {
       "model_id": "",
       "version_major": 2,
       "version_minor": 0
      },
      "text/plain": [
       "FloatProgress(value=0.0, bar_style='info', description='Progress:', layout=Layout(height='25px', width='50%'),…"
      ]
     },
     "metadata": {},
     "output_type": "display_data"
    }
   ],
   "source": [
    "import logging\n",
    "logger = spark._jvm.org.apache.log4j\n",
    "logging.getLogger(\"py4j\").setLevel(logging.ERROR)"
   ]
  }
 ],
 "metadata": {
  "kernelspec": {
   "display_name": "PySpark",
   "language": "",
   "name": "pysparkkernel"
  },
  "language_info": {
   "codemirror_mode": {
    "name": "python",
    "version": 3
   },
   "mimetype": "text/x-python",
   "name": "pyspark",
   "pygments_lexer": "python3"
  }
 },
 "nbformat": 4,
 "nbformat_minor": 5
}
