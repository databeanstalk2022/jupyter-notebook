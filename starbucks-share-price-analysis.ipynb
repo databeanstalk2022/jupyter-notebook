{
 "cells": [
  {
   "cell_type": "markdown",
   "id": "f6fbb34b-73c7-43e4-a4b4-653e05dd6755",
   "metadata": {},
   "source": [
    "Check AWS S3 shared data files"
   ]
  },
  {
   "cell_type": "code",
   "execution_count": null,
   "id": "4e901e97-374d-4f40-acb6-cceda2fd0512",
   "metadata": {
    "tags": []
   },
   "outputs": [],
   "source": [
    "! aws s3 ls s3://databeanstalk-community/data/"
   ]
  },
  {
   "cell_type": "markdown",
   "id": "e19aedb8-266b-435f-ae4f-59565fd29464",
   "metadata": {},
   "source": [
    "Load local file to folder on left menu"
   ]
  },
  {
   "cell_type": "code",
   "execution_count": null,
   "id": "841b5e44-c79d-4471-830d-e64149acf6ed",
   "metadata": {},
   "outputs": [],
   "source": [
    "! ls -ltr"
   ]
  },
  {
   "cell_type": "code",
   "execution_count": null,
   "id": "36afbe27",
   "metadata": {},
   "outputs": [],
   "source": [
    "import numpy as np # linear algebra\n",
    "import pandas as pd # data processing, CSV file I/O (e.g. pd.read_csv)\n"
   ]
  },
  {
   "cell_type": "code",
   "execution_count": null,
   "id": "b6c0173b-01d7-4d44-8911-31f4586900f2",
   "metadata": {},
   "outputs": [],
   "source": [
    "LocalData = pd.read_csv('Starbucks_stock_history.csv')\n",
    "print(LocalData.head())"
   ]
  },
  {
   "cell_type": "markdown",
   "id": "cf293581",
   "metadata": {
    "papermill": {
     "duration": 0.056158,
     "end_time": "2021-10-04T12:41:46.359325",
     "exception": false,
     "start_time": "2021-10-04T12:41:46.303167",
     "status": "completed"
    },
    "tags": []
   },
   "source": [
    " *  Task-1 Dataset Load  \n",
    " *  Task-2 Data Visualization Charts  \n",
    " *  Task-3 Statistical Analysis and Inference  \n",
    " *  Task-4 Linear Regression and Forecasting \n"
   ]
  },
  {
   "cell_type": "markdown",
   "id": "89e5ad7f",
   "metadata": {
    "papermill": {
     "duration": 0.054387,
     "end_time": "2021-10-04T12:41:46.468430",
     "exception": false,
     "start_time": "2021-10-04T12:41:46.414043",
     "status": "completed"
    },
    "tags": []
   },
   "source": [
    "<a id=1><h3 >1️⃣ Dataset Loading<br></h3></a>\n",
    "<a id=2><h3 >2️⃣ Dataset Visualization Using Simple Plots<br></h3></a>\n",
    "<a id=3><h3 >3️⃣ Dataset Visualization Using MPLFinance Plots<br></h3></a>\n",
    "<a id=4><h3 >4️⃣ Stock Analysis of the data<br></h3></a>\n",
    "<a id=4.1><h4 >4️⃣.1️⃣ MACD Forecasting of data using Pandas TA<br></h4></a>\n",
    "<a id=5><h3 >5️⃣ Let us do a financial ratios calculation using FINTA library <br></h3></a>\n",
    "<a id=6><h3 >6️⃣ Let us do a financial ratios calculation<br></h3></a>\n",
    "<a id=7><h3 >7️⃣ Let us do a bit of forecasting using Facebook Prophet Regression <br></h3></a>\n",
    "<a id=8><h3 >8️⃣ Let us do a Facebook Prophet library<br></h3></a>\n"
   ]
  },
  {
   "cell_type": "code",
   "execution_count": null,
   "id": "1202fb89",
   "metadata": {
    "_kg_hide-output": true,
    "papermill": {
     "duration": 10.76023,
     "end_time": "2021-10-04T12:41:57.283014",
     "exception": false,
     "start_time": "2021-10-04T12:41:46.522784",
     "status": "completed"
    },
    "tags": []
   },
   "outputs": [],
   "source": [
    "import matplotlib\n",
    "import matplotlib.pyplot as plt\n",
    "import matplotlib.ticker as mticker\n",
    "import matplotlib.dates as mdates\n",
    "import matplotlib.colors as mcolors\n",
    "from matplotlib import style\n",
    "import seaborn as sns\n",
    "sns.set_style('whitegrid')\n",
    "plt.style.use(\"fivethirtyeight\")\n",
    "%matplotlib inline\n",
    "\n",
    "# For reading stock data from yahoo\n",
    "from pandas_datareader.data import DataReader\n",
    "\n",
    "# For time stamps\n",
    "from datetime import datetime\n",
    "from math import sqrt"
   ]
  },
  {
   "cell_type": "markdown",
   "id": "194a626e",
   "metadata": {
    "papermill": {
     "duration": 0.060583,
     "end_time": "2021-10-04T12:41:57.405197",
     "exception": false,
     "start_time": "2021-10-04T12:41:57.344614",
     "status": "completed"
    },
    "tags": []
   },
   "source": [
    "# [1️⃣. Dataset Loading](#1)\r",
    ">"
   ]
  },
  {
   "cell_type": "code",
   "execution_count": null,
   "id": "70c3c8e1",
   "metadata": {
    "papermill": {
     "duration": 0.113266,
     "end_time": "2021-10-04T12:41:57.577954",
     "exception": false,
     "start_time": "2021-10-04T12:41:57.464688",
     "status": "completed"
    },
    "tags": []
   },
   "outputs": [],
   "source": [
    "sbux = pd.read_csv('s3://databeanstalk-community/data/Starbucks_stock_history.csv')\n",
    "print(sbux.head())"
   ]
  },
  {
   "cell_type": "markdown",
   "id": "dcce7c50",
   "metadata": {
    "papermill": {
     "duration": 0.05954,
     "end_time": "2021-10-04T12:41:57.695886",
     "exception": false,
     "start_time": "2021-10-04T12:41:57.636346",
     "status": "completed"
    },
    "tags": []
   },
   "source": [
    "# [2️⃣. Dataset Visualization Using Simple Plots](#2)\n",
    "\n",
    "\n",
    "## Initial simple plots using \n",
    "* *Pandas Plotting for opening and closing prices*\n",
    "* *Plotly OHLC (Open-High-Low-Close) Charts*\n",
    "* *Statistical Moving Average (SMA) Charts*\n",
    "* *Exponential Moving Average (EMA) Charts*\n"
   ]
  },
  {
   "cell_type": "markdown",
   "id": "1b55069e",
   "metadata": {
    "papermill": {
     "duration": 0.058163,
     "end_time": "2021-10-04T12:41:57.815692",
     "exception": false,
     "start_time": "2021-10-04T12:41:57.757529",
     "status": "completed"
    },
    "tags": []
   },
   "source": [
    "#### Simple Pandas plots for the price and volume of Starbucks Stock"
   ]
  },
  {
   "cell_type": "code",
   "execution_count": null,
   "id": "a626f0a0",
   "metadata": {
    "papermill": {
     "duration": 0.675547,
     "end_time": "2021-10-04T12:41:58.549950",
     "exception": false,
     "start_time": "2021-10-04T12:41:57.874403",
     "status": "completed"
    },
    "tags": []
   },
   "outputs": [],
   "source": [
    "#Closing Price PLot\n",
    "sbux[[\"Close\"]].plot()\n",
    "#Volume Plot\n",
    "sbux[[\"Volume\"]].plot()"
   ]
  },
  {
   "cell_type": "markdown",
   "id": "8ebe7218",
   "metadata": {
    "papermill": {
     "duration": 0.060667,
     "end_time": "2021-10-04T12:41:58.670998",
     "exception": false,
     "start_time": "2021-10-04T12:41:58.610331",
     "status": "completed"
    },
    "tags": []
   },
   "source": [
    "### CAGR Compound Annual Growth Rate (CAGR)"
   ]
  },
  {
   "cell_type": "code",
   "execution_count": null,
   "id": "4c1dfa6b",
   "metadata": {
    "papermill": {
     "duration": 0.088041,
     "end_time": "2021-10-04T12:41:58.819754",
     "exception": false,
     "start_time": "2021-10-04T12:41:58.731713",
     "status": "completed"
    },
    "tags": []
   },
   "outputs": [],
   "source": [
    "sbux2 = pd.read_csv('s3://databeanstalk-community/data/Starbucks_stock_history.csv', header=0, \n",
    "                  index_col= 0, names=['Date','Open', 'High', 'Low', 'Close', 'Volume', 'Dividends', 'Splits'], parse_dates=True)\n",
    "# Get the number of days in `sbux`\n",
    "days = (sbux2.index[-1] - sbux2.index[0]).days\n",
    "\n",
    "# Calculate the CAGR \n",
    "cagr = ((((sbux2['Close'][-1]) / sbux2['Close'][1])) ** (365.0/days)) - 1\n",
    "\n",
    "\n",
    "# Print CAGR\n",
    "print(\"The CAGR (Compound Annual Growth Rate) of Starbucks since IPO is \" , round((cagr*100),2), \"% per year\")"
   ]
  },
  {
   "cell_type": "markdown",
   "id": "99da27e7",
   "metadata": {
    "papermill": {
     "duration": 0.062255,
     "end_time": "2021-10-04T12:41:58.942143",
     "exception": false,
     "start_time": "2021-10-04T12:41:58.879888",
     "status": "completed"
    },
    "tags": []
   },
   "source": [
    "### Moving Windows\n"
   ]
  },
  {
   "cell_type": "code",
   "execution_count": null,
   "id": "aaa37a73",
   "metadata": {
    "papermill": {
     "duration": 0.074709,
     "end_time": "2021-10-04T12:41:59.077161",
     "exception": false,
     "start_time": "2021-10-04T12:41:59.002452",
     "status": "completed"
    },
    "tags": []
   },
   "outputs": [],
   "source": [
    "# Isolate the adjusted closing prices \n",
    "adj_close_px = sbux2['Close']\n",
    "\n",
    "# Calculate the moving average\n",
    "moving_avg = adj_close_px.rolling(window=40).mean()\n",
    "\n",
    "# Inspect the result\n",
    "moving_avg[-10:]"
   ]
  },
  {
   "cell_type": "code",
   "execution_count": null,
   "id": "577ae19e",
   "metadata": {
    "papermill": {
     "duration": 0.424358,
     "end_time": "2021-10-04T12:41:59.562320",
     "exception": false,
     "start_time": "2021-10-04T12:41:59.137962",
     "status": "completed"
    },
    "tags": []
   },
   "outputs": [],
   "source": [
    "# Short moving window rolling mean\n",
    "sbux2['42'] = adj_close_px.rolling(window=40).mean()\n",
    "\n",
    "# Long moving window rolling mean\n",
    "sbux2['252'] = adj_close_px.rolling(window=252).mean()\n",
    "\n",
    "# Plot the adjusted closing price, the short and long windows of rolling means\n",
    "sbux2[['Close', '42', '252']].plot()\n",
    "\n",
    "plt.show()"
   ]
  },
  {
   "cell_type": "markdown",
   "id": "835ae94c",
   "metadata": {
    "papermill": {
     "duration": 0.060764,
     "end_time": "2021-10-04T12:41:59.807060",
     "exception": false,
     "start_time": "2021-10-04T12:41:59.746296",
     "status": "completed"
    },
    "tags": []
   },
   "source": [
    "#### OHLC Chart"
   ]
  },
  {
   "cell_type": "code",
   "execution_count": null,
   "id": "198293b3",
   "metadata": {
    "papermill": {
     "duration": 0.343139,
     "end_time": "2021-10-04T12:42:00.211646",
     "exception": false,
     "start_time": "2021-10-04T12:41:59.868507",
     "status": "completed"
    },
    "tags": []
   },
   "outputs": [],
   "source": [
    "#OHLC Plot using Plotly\n",
    "import plotly.graph_objects as go\n",
    "\n",
    "fig = go.Figure(data=go.Ohlc(x=sbux['Date'],\n",
    "        open=sbux['Open'],\n",
    "        high=sbux['High'],\n",
    "        low=sbux['Low'],\n",
    "        close=sbux['Close']))\n",
    "fig.show()"
   ]
  },
  {
   "cell_type": "markdown",
   "id": "c9d22383",
   "metadata": {
    "papermill": {
     "duration": 0.077073,
     "end_time": "2021-10-04T12:42:00.365677",
     "exception": false,
     "start_time": "2021-10-04T12:42:00.288604",
     "status": "completed"
    },
    "tags": []
   },
   "source": [
    "### Volatility Calculation"
   ]
  },
  {
   "cell_type": "code",
   "execution_count": null,
   "id": "ca01ba88",
   "metadata": {
    "papermill": {
     "duration": 0.41711,
     "end_time": "2021-10-04T12:42:00.870786",
     "exception": false,
     "start_time": "2021-10-04T12:42:00.453676",
     "status": "completed"
    },
    "tags": []
   },
   "outputs": [],
   "source": [
    "daily_close_px = sbux2[['Close']]\n",
    "# Calculate the daily percentage change for `daily_close_px`\n",
    "daily_pct_change = daily_close_px.pct_change()\n",
    "\n",
    "# Plot the distributions\n",
    "daily_pct_change.hist(bins=50, sharex=True, figsize=(12,8))\n",
    "\n",
    "# Show the resulting plot\n",
    "plt.show()"
   ]
  },
  {
   "cell_type": "code",
   "execution_count": null,
   "id": "45382ffc",
   "metadata": {
    "papermill": {
     "duration": 0.415129,
     "end_time": "2021-10-04T12:42:01.361940",
     "exception": false,
     "start_time": "2021-10-04T12:42:00.946811",
     "status": "completed"
    },
    "tags": []
   },
   "outputs": [],
   "source": [
    "# Define the minumum of periods to consider \n",
    "min_periods = 75 \n",
    "\n",
    "# Calculate the volatility\n",
    "vol = daily_pct_change.rolling(min_periods).std() * np.sqrt(min_periods) \n",
    "\n",
    "# Plot the volatility\n",
    "vol.plot(figsize=(10, 8))\n",
    "\n",
    "# Show the plot\n",
    "plt.show()"
   ]
  },
  {
   "cell_type": "code",
   "execution_count": null,
   "id": "8b32abf8",
   "metadata": {
    "papermill": {
     "duration": 0.516331,
     "end_time": "2021-10-04T12:42:01.956757",
     "exception": false,
     "start_time": "2021-10-04T12:42:01.440426",
     "status": "completed"
    },
    "tags": []
   },
   "outputs": [],
   "source": [
    "# Plot a scatter matrix with the `daily_pct_change` data \n",
    "pd.plotting.scatter_matrix(daily_pct_change, diagonal='kde', alpha=0.1,figsize=(12,12))\n",
    "\n",
    "# Show the plot\n",
    "plt.show()"
   ]
  },
  {
   "cell_type": "markdown",
   "id": "329b74b3",
   "metadata": {
    "papermill": {
     "duration": 0.081562,
     "end_time": "2021-10-04T12:42:02.289889",
     "exception": false,
     "start_time": "2021-10-04T12:42:02.208327",
     "status": "completed"
    },
    "tags": []
   },
   "source": [
    "#### SMA chart plotting for 5, 20, 50, 200, 500 day moving averages"
   ]
  },
  {
   "cell_type": "code",
   "execution_count": null,
   "id": "0d6cf2f4",
   "metadata": {
    "papermill": {
     "duration": 0.410297,
     "end_time": "2021-10-04T12:42:02.780320",
     "exception": false,
     "start_time": "2021-10-04T12:42:02.370023",
     "status": "completed"
    },
    "tags": []
   },
   "outputs": [],
   "source": [
    "sbux['SMA5'] = sbux.Close.rolling(5).mean()\n",
    "sbux['SMA20'] = sbux.Close.rolling(20).mean()\n",
    "sbux['SMA50'] = sbux.Close.rolling(50).mean()\n",
    "sbux['SMA200'] = sbux.Close.rolling(200).mean()\n",
    "sbux['SMA500'] = sbux.Close.rolling(500).mean()\n",
    "\n",
    "fig = go.Figure(data=[go.Ohlc(x=sbux['Date'],\n",
    "                              open=sbux['Open'],\n",
    "                              high=sbux['High'],\n",
    "                              low=sbux['Low'],\n",
    "                              close=sbux['Close'], name = \"OHLC\"),\n",
    "                      go.Scatter(x=sbux.Date, y=sbux.SMA5, line=dict(color='orange', width=1), name=\"SMA5\"),\n",
    "                      go.Scatter(x=sbux.Date, y=sbux.SMA20, line=dict(color='green', width=1), name=\"SMA20\"),\n",
    "                      go.Scatter(x=sbux.Date, y=sbux.SMA50, line=dict(color='blue', width=1), name=\"SMA50\"),\n",
    "                      go.Scatter(x=sbux.Date, y=sbux.SMA200, line=dict(color='violet', width=1), name=\"SMA200\"),\n",
    "                      go.Scatter(x=sbux.Date, y=sbux.SMA500, line=dict(color='purple', width=1), name=\"SMA500\")])\n",
    "fig.show()"
   ]
  },
  {
   "cell_type": "markdown",
   "id": "40f1aa86",
   "metadata": {
    "papermill": {
     "duration": 0.119956,
     "end_time": "2021-10-04T12:42:03.021856",
     "exception": false,
     "start_time": "2021-10-04T12:42:02.901900",
     "status": "completed"
    },
    "tags": []
   },
   "source": [
    "#### EMA chart plotting for 5, 20, 50, 200, 500 day moving averages"
   ]
  },
  {
   "cell_type": "code",
   "execution_count": null,
   "id": "a49a2fb3",
   "metadata": {
    "papermill": {
     "duration": 0.440313,
     "end_time": "2021-10-04T12:42:03.582746",
     "exception": false,
     "start_time": "2021-10-04T12:42:03.142433",
     "status": "completed"
    },
    "tags": []
   },
   "outputs": [],
   "source": [
    "\n",
    "sbux['EMA5'] = sbux.Close.ewm(span=5, adjust=False).mean()\n",
    "sbux['EMA20'] = sbux.Close.ewm(span=20, adjust=False).mean()\n",
    "sbux['EMA50'] = sbux.Close.ewm(span=50, adjust=False).mean()\n",
    "sbux['EMA200'] = sbux.Close.ewm(span=200, adjust=False).mean()\n",
    "sbux['EMA500'] = sbux.Close.ewm(span=500, adjust=False).mean()\n",
    "\n",
    "fig = go.Figure(data=[go.Ohlc(x=sbux['Date'],\n",
    "                              open=sbux['Open'],\n",
    "                              high=sbux['High'],\n",
    "                              low=sbux['Low'],\n",
    "                              close=sbux['Close'], name = \"OHLC\"),\n",
    "                      go.Scatter(x=sbux.Date, y=sbux.SMA5, line=dict(color='orange', width=1), name=\"EMA5\"),\n",
    "                      go.Scatter(x=sbux.Date, y=sbux.SMA20, line=dict(color='green', width=1), name=\"EMA20\"),\n",
    "                      go.Scatter(x=sbux.Date, y=sbux.SMA50, line=dict(color='blue', width=1), name=\"EMA50\"),\n",
    "                      go.Scatter(x=sbux.Date, y=sbux.SMA200, line=dict(color='violet', width=1), name=\"EMA200\"),\n",
    "                      go.Scatter(x=sbux.Date, y=sbux.SMA500, line=dict(color='purple', width=1), name=\"EMA500\")])\n",
    "fig.show()"
   ]
  },
  {
   "cell_type": "markdown",
   "id": "eee95270",
   "metadata": {
    "papermill": {
     "duration": 0.207673,
     "end_time": "2021-10-04T12:42:03.955741",
     "exception": false,
     "start_time": "2021-10-04T12:42:03.748068",
     "status": "completed"
    },
    "tags": []
   },
   "source": [
    "#### Reset the index on to the Date column"
   ]
  },
  {
   "cell_type": "code",
   "execution_count": null,
   "id": "c62f0659",
   "metadata": {
    "papermill": {
     "duration": 0.206447,
     "end_time": "2021-10-04T12:42:04.325915",
     "exception": false,
     "start_time": "2021-10-04T12:42:04.119468",
     "status": "completed"
    },
    "tags": []
   },
   "outputs": [],
   "source": [
    "sbux.set_index('Date')"
   ]
  },
  {
   "cell_type": "markdown",
   "id": "442620e5",
   "metadata": {
    "papermill": {
     "duration": 0.17654,
     "end_time": "2021-10-04T12:42:04.679220",
     "exception": false,
     "start_time": "2021-10-04T12:42:04.502680",
     "status": "completed"
    },
    "tags": []
   },
   "source": [
    "#### Create a column on daily change percentages for the Stock"
   ]
  },
  {
   "cell_type": "code",
   "execution_count": null,
   "id": "f23981ed",
   "metadata": {
    "papermill": {
     "duration": 0.227019,
     "end_time": "2021-10-04T12:42:05.108569",
     "exception": false,
     "start_time": "2021-10-04T12:42:04.881550",
     "status": "completed"
    },
    "tags": []
   },
   "outputs": [],
   "source": [
    "sbux['daily_change_pct'] = sbux['Close'].pct_change()*100\n",
    "sbux['returns'] = sbux['daily_change_pct'] / sbux['Close']  \n",
    "sbux.head()"
   ]
  },
  {
   "cell_type": "markdown",
   "id": "c3e2fbf0",
   "metadata": {
    "papermill": {
     "duration": 0.177167,
     "end_time": "2021-10-04T12:42:05.467486",
     "exception": false,
     "start_time": "2021-10-04T12:42:05.290319",
     "status": "completed"
    },
    "tags": []
   },
   "source": [
    "#### Create a histogram on the daily changes / percentage"
   ]
  },
  {
   "cell_type": "code",
   "execution_count": null,
   "id": "79d2c613",
   "metadata": {
    "papermill": {
     "duration": 0.493835,
     "end_time": "2021-10-04T12:42:06.142737",
     "exception": false,
     "start_time": "2021-10-04T12:42:05.648902",
     "status": "completed"
    },
    "tags": []
   },
   "outputs": [],
   "source": [
    "sbux['daily_change_pct'].fillna(0)\n",
    "sbux['daily_change_pct'].hist(bins = 50, figsize = (10,5)) \n",
    "plt.xlabel('Daily Change Percentage')\n",
    "plt.ylabel('Frequency')\n",
    "plt.show()\n",
    "#print the statistics on daily change percentage\n",
    "sbux.daily_change_pct.describe()"
   ]
  },
  {
   "cell_type": "markdown",
   "id": "5253dc40",
   "metadata": {
    "papermill": {
     "duration": 0.164509,
     "end_time": "2021-10-04T12:42:06.477207",
     "exception": false,
     "start_time": "2021-10-04T12:42:06.312698",
     "status": "completed"
    },
    "tags": []
   },
   "source": [
    "#### Plot 7-day rolling averages for volume of stocks traded"
   ]
  },
  {
   "cell_type": "code",
   "execution_count": null,
   "id": "347c4012",
   "metadata": {
    "papermill": {
     "duration": 0.447456,
     "end_time": "2021-10-04T12:42:07.091828",
     "exception": false,
     "start_time": "2021-10-04T12:42:06.644372",
     "status": "completed"
    },
    "tags": []
   },
   "outputs": [],
   "source": [
    "sbux_vol = sbux['Volume'].rolling(7).std()*np.sqrt(7)\n",
    "sbux_vol.plot(figsize = (15, 7))"
   ]
  },
  {
   "cell_type": "markdown",
   "id": "53ccbaba",
   "metadata": {
    "papermill": {
     "duration": 0.182546,
     "end_time": "2021-10-04T12:42:07.455719",
     "exception": false,
     "start_time": "2021-10-04T12:42:07.273173",
     "status": "completed"
    },
    "tags": []
   },
   "source": [
    "#### Define a daily trend function for usage in aggregation"
   ]
  },
  {
   "cell_type": "code",
   "execution_count": null,
   "id": "029a1d08",
   "metadata": {
    "papermill": {
     "duration": 0.177154,
     "end_time": "2021-10-04T12:42:07.801735",
     "exception": false,
     "start_time": "2021-10-04T12:42:07.624581",
     "status": "completed"
    },
    "tags": []
   },
   "outputs": [],
   "source": [
    "def daily_trend(x):\n",
    "    if x > -0.5 and x <= 0.5:\n",
    "        return 'No change'\n",
    "    elif x > 0.5 and x <= 2:\n",
    "        return 'Upto 2% Increase'\n",
    "    elif x > -2 and x <= -0.5:\n",
    "        return 'Upto 2% Decrease'\n",
    "    elif x > 2 and x <= 5:\n",
    "        return '2-5% Increase'\n",
    "    elif x > -5 and x <= -2:\n",
    "        return '2-5% Decrease'\n",
    "    elif x > 5 and x <= 10:\n",
    "        return '5-10% Increase'\n",
    "    elif x > -10 and x <= -5:\n",
    "        return '5-10% Decrease'\n",
    "    elif x > 10:\n",
    "        return '>10% Increase'\n",
    "    elif x <= -10:\n",
    "        return '>10% Decrease'"
   ]
  },
  {
   "cell_type": "markdown",
   "id": "a1cfb212",
   "metadata": {
    "papermill": {
     "duration": 0.169878,
     "end_time": "2021-10-04T12:42:08.140982",
     "exception": false,
     "start_time": "2021-10-04T12:42:07.971104",
     "status": "completed"
    },
    "tags": []
   },
   "source": [
    "#### SMA chart plotting for 5, 20, 50, 200, 500 day moving averages"
   ]
  },
  {
   "cell_type": "code",
   "execution_count": null,
   "id": "2efe7b1e",
   "metadata": {
    "papermill": {
     "duration": 0.198071,
     "end_time": "2021-10-04T12:42:08.508162",
     "exception": false,
     "start_time": "2021-10-04T12:42:08.310091",
     "status": "completed"
    },
    "tags": []
   },
   "outputs": [],
   "source": [
    "sbux['Trend']= np.zeros(sbux['daily_change_pct'].count()+1)\n",
    "sbux['Trend']= sbux['daily_change_pct'].apply(lambda x:daily_trend(x))\n",
    "sbux['Trend'].replace('None','No change')\n",
    "sbux.head()"
   ]
  },
  {
   "cell_type": "markdown",
   "id": "fd864546",
   "metadata": {
    "papermill": {
     "duration": 0.167033,
     "end_time": "2021-10-04T12:42:08.843429",
     "exception": false,
     "start_time": "2021-10-04T12:42:08.676396",
     "status": "completed"
    },
    "tags": []
   },
   "source": [
    "#### A Pie & Bar Chart of Daily Percentage change categories"
   ]
  },
  {
   "cell_type": "code",
   "execution_count": null,
   "id": "c266cceb",
   "metadata": {
    "papermill": {
     "duration": 0.542425,
     "end_time": "2021-10-04T12:42:09.554665",
     "exception": false,
     "start_time": "2021-10-04T12:42:09.012240",
     "status": "completed"
    },
    "tags": []
   },
   "outputs": [],
   "source": [
    "sbux_pie_data = sbux.groupby('Trend')\n",
    "#pie_label = sbux_pie_data['Trend'].unique()\n",
    "plt.pie(sbux_pie_data['Trend'].count(), #labels = pie_label, \n",
    "        autopct = '%1.1f%%', radius = 2 )\n",
    "plt.show()\n",
    "ax=sbux_pie_data['Trend'].count().sort_values(ascending=False).plot.bar(rot=90)\n",
    "plt.show()"
   ]
  },
  {
   "cell_type": "markdown",
   "id": "27aa470d",
   "metadata": {
    "papermill": {
     "duration": 0.18056,
     "end_time": "2021-10-04T12:42:09.915874",
     "exception": false,
     "start_time": "2021-10-04T12:42:09.735314",
     "status": "completed"
    },
    "tags": []
   },
   "source": [
    "# [3️⃣. Dataset Visualization Using MPLFinance Plots](#3)\n"
   ]
  },
  {
   "cell_type": "markdown",
   "id": "ebcf8e2b",
   "metadata": {
    "papermill": {
     "duration": 0.180834,
     "end_time": "2021-10-04T12:42:25.191452",
     "exception": false,
     "start_time": "2021-10-04T12:42:25.010618",
     "status": "completed"
    },
    "tags": []
   },
   "source": [
    "#### Another Candle Stick Plot with Moving Averages and show of non trading days"
   ]
  },
  {
   "cell_type": "code",
   "execution_count": null,
   "id": "59a7e27c",
   "metadata": {
    "papermill": {
     "duration": 0.219575,
     "end_time": "2021-10-04T12:42:38.563989",
     "exception": false,
     "start_time": "2021-10-04T12:42:38.344414",
     "status": "completed"
    },
    "tags": []
   },
   "outputs": [],
   "source": [
    "sbux.head()"
   ]
  },
  {
   "cell_type": "markdown",
   "id": "11a9dc0f",
   "metadata": {
    "papermill": {
     "duration": 0.18575,
     "end_time": "2021-10-04T12:42:38.939306",
     "exception": false,
     "start_time": "2021-10-04T12:42:38.753556",
     "status": "completed"
    },
    "tags": []
   },
   "source": [
    "# [4️⃣. Stock Data Analysis using standard techniques](#4)\n"
   ]
  },
  {
   "cell_type": "markdown",
   "id": "1bf7ae0d",
   "metadata": {
    "papermill": {
     "duration": 0.181351,
     "end_time": "2021-10-04T12:42:39.306127",
     "exception": false,
     "start_time": "2021-10-04T12:42:39.124776",
     "status": "completed"
    },
    "tags": []
   },
   "source": [
    "###### Following is a reuse from the kernel https://www.kaggle.com/datapple/eda-tesla-stock-price-financial-analysis and modified for the analysis"
   ]
  },
  {
   "cell_type": "markdown",
   "id": "c670dba4",
   "metadata": {
    "papermill": {
     "duration": 0.177648,
     "end_time": "2021-10-04T12:42:39.662200",
     "exception": false,
     "start_time": "2021-10-04T12:42:39.484552",
     "status": "completed"
    },
    "tags": []
   },
   "source": [
    "#### Identify the days where the SMA20 is greater than SMA50 and tag the dates.These are target investment dates"
   ]
  },
  {
   "cell_type": "code",
   "execution_count": null,
   "id": "d724bab4",
   "metadata": {
    "papermill": {
     "duration": 0.328667,
     "end_time": "2021-10-04T12:42:40.168223",
     "exception": false,
     "start_time": "2021-10-04T12:42:39.839556",
     "status": "completed"
    },
    "tags": []
   },
   "outputs": [],
   "source": [
    "sbux['Shares'] = [1 if sbux.loc[ei, 'SMA20']>sbux.loc[ei, 'SMA50'] else 0 for ei in sbux.index]"
   ]
  },
  {
   "cell_type": "markdown",
   "id": "f1f0feab",
   "metadata": {
    "papermill": {
     "duration": 0.178955,
     "end_time": "2021-10-04T12:42:40.527084",
     "exception": false,
     "start_time": "2021-10-04T12:42:40.348129",
     "status": "completed"
    },
    "tags": []
   },
   "source": [
    "### Tag the dates as profit when the closing price is greater than the preceding date \n",
    "\n",
    "#### Plot the dates of wealth generation over the years"
   ]
  },
  {
   "cell_type": "code",
   "execution_count": null,
   "id": "14e2480b",
   "metadata": {
    "papermill": {
     "duration": 0.640029,
     "end_time": "2021-10-04T12:42:41.344686",
     "exception": false,
     "start_time": "2021-10-04T12:42:40.704657",
     "status": "completed"
    },
    "tags": []
   },
   "outputs": [],
   "source": [
    "sbux['Close1'] = sbux['Close'].shift(-1)\n",
    "sbux['Profit'] = [sbux.loc[ei, 'Close1'] - sbux.loc[ei, 'Close'] if sbux.loc[ei, 'Shares']==1 else 0 for ei in sbux.index]\n",
    "sbux['Profit'].plot()\n",
    "plt.axhline(y=0, color='red')"
   ]
  },
  {
   "cell_type": "markdown",
   "id": "349076aa",
   "metadata": {
    "papermill": {
     "duration": 0.17546,
     "end_time": "2021-10-04T12:42:41.700803",
     "exception": false,
     "start_time": "2021-10-04T12:42:41.525343",
     "status": "completed"
    },
    "tags": []
   },
   "source": [
    "#### Calculate the cumulated wealth on the stock"
   ]
  },
  {
   "cell_type": "code",
   "execution_count": null,
   "id": "508b68ed",
   "metadata": {
    "papermill": {
     "duration": 0.212933,
     "end_time": "2021-10-04T12:42:42.093534",
     "exception": false,
     "start_time": "2021-10-04T12:42:41.880601",
     "status": "completed"
    },
    "tags": []
   },
   "outputs": [],
   "source": [
    "sbux['wealth'] = sbux['Profit'].cumsum()\n",
    "sbux.tail()"
   ]
  },
  {
   "cell_type": "code",
   "execution_count": null,
   "id": "d6babe7c",
   "metadata": {
    "papermill": {
     "duration": 0.495301,
     "end_time": "2021-10-04T12:42:42.771492",
     "exception": false,
     "start_time": "2021-10-04T12:42:42.276191",
     "status": "completed"
    },
    "tags": []
   },
   "outputs": [],
   "source": [
    "sbux['wealth'].plot()\n",
    "plt.title('Total money made by Starbucks Stock (number of times ): {}'.format(round((sbux.loc[sbux.index[-2], 'wealth']),1)))"
   ]
  },
  {
   "cell_type": "markdown",
   "id": "490f84d6",
   "metadata": {
    "papermill": {
     "duration": 0.178672,
     "end_time": "2021-10-04T12:42:43.132910",
     "exception": false,
     "start_time": "2021-10-04T12:42:42.954238",
     "status": "completed"
    },
    "tags": []
   },
   "source": [
    "#### Calculate the probability of better investment"
   ]
  },
  {
   "cell_type": "code",
   "execution_count": null,
   "id": "41a52330",
   "metadata": {
    "papermill": {
     "duration": 0.198077,
     "end_time": "2021-10-04T12:42:43.513220",
     "exception": false,
     "start_time": "2021-10-04T12:42:43.315143",
     "status": "completed"
    },
    "tags": []
   },
   "outputs": [],
   "source": [
    "sbux['LogReturn'] = np.log(sbux['Close']).shift(-1) - np.log(sbux['Close'])\n",
    "print(sbux['LogReturn'])"
   ]
  },
  {
   "cell_type": "markdown",
   "id": "0a7aa0ba",
   "metadata": {
    "papermill": {
     "duration": 0.180416,
     "end_time": "2021-10-04T12:42:43.994152",
     "exception": false,
     "start_time": "2021-10-04T12:42:43.813736",
     "status": "completed"
    },
    "tags": []
   },
   "source": [
    "#### Build a probability distribution function plot using scipy stats package"
   ]
  },
  {
   "cell_type": "markdown",
   "id": "727710f4",
   "metadata": {
    "papermill": {
     "duration": 0.19203,
     "end_time": "2021-10-04T12:42:44.368728",
     "exception": false,
     "start_time": "2021-10-04T12:42:44.176698",
     "status": "completed"
    },
    "tags": []
   },
   "source": [
    "#### Plot a histogram on logarithm of returns"
   ]
  },
  {
   "cell_type": "code",
   "execution_count": null,
   "id": "03dec51e",
   "metadata": {
    "papermill": {
     "duration": 0.507822,
     "end_time": "2021-10-04T12:42:45.088558",
     "exception": false,
     "start_time": "2021-10-04T12:42:44.580736",
     "status": "completed"
    },
    "tags": []
   },
   "outputs": [],
   "source": [
    "from scipy.stats import norm\n",
    "mu = sbux['LogReturn'].mean()\n",
    "sigma = sbux['LogReturn'].std(ddof=1)\n",
    "\n",
    "density = pd.DataFrame()\n",
    "density['x'] = np.arange(sbux['LogReturn'].min()-0.01, sbux['LogReturn'].max()+0.01, 0.001)\n",
    "density['pdf'] = norm.pdf(density['x'], mu, sigma)\n",
    "\n",
    "sbux['LogReturn'].hist(bins=50, figsize=(15, 8))\n",
    "plt.plot(density['x'], density['pdf'], color='red')\n",
    "plt.show()"
   ]
  },
  {
   "cell_type": "markdown",
   "id": "20c88219",
   "metadata": {
    "execution": {
     "iopub.execute_input": "2021-09-25T05:25:40.976213Z",
     "iopub.status.busy": "2021-09-25T05:25:40.976005Z",
     "iopub.status.idle": "2021-09-25T05:25:40.982027Z",
     "shell.execute_reply": "2021-09-25T05:25:40.981135Z",
     "shell.execute_reply.started": "2021-09-25T05:25:40.976188Z"
    },
    "papermill": {
     "duration": 0.184807,
     "end_time": "2021-10-04T12:42:45.461076",
     "exception": false,
     "start_time": "2021-10-04T12:42:45.276269",
     "status": "completed"
    },
    "tags": []
   },
   "source": [
    "#### Check for the probability od drops and jumps for a range"
   ]
  },
  {
   "cell_type": "code",
   "execution_count": null,
   "id": "b886533a",
   "metadata": {
    "papermill": {
     "duration": 0.202864,
     "end_time": "2021-10-04T12:42:45.848307",
     "exception": false,
     "start_time": "2021-10-04T12:42:45.645443",
     "status": "completed"
    },
    "tags": []
   },
   "outputs": [],
   "source": [
    "mu220 = 365*mu\n",
    "sigma220 = (365**0.5) * sigma\n",
    "for i in range(-5, 6, 1):\n",
    "    drop = norm.cdf((-i)*0.05, mu220, sigma220)\n",
    "    jump = norm.cdf(i*0.05, mu220, sigma220)\n",
    "    print('The probability of %d percent drop is = %f & The probability of %d percent jump is = %f' % (i*5, round(drop,2), -i*5, round(jump,2)))"
   ]
  },
  {
   "cell_type": "markdown",
   "id": "998c0c5e",
   "metadata": {
    "papermill": {
     "duration": 0.185124,
     "end_time": "2021-10-04T12:42:46.221587",
     "exception": false,
     "start_time": "2021-10-04T12:42:46.036463",
     "status": "completed"
    },
    "tags": []
   },
   "source": [
    "#### What is the Value At Risk for the Stock?"
   ]
  },
  {
   "cell_type": "code",
   "execution_count": null,
   "id": "cf56bae2",
   "metadata": {
    "papermill": {
     "duration": 0.196308,
     "end_time": "2021-10-04T12:42:46.608303",
     "exception": false,
     "start_time": "2021-10-04T12:42:46.411995",
     "status": "completed"
    },
    "tags": []
   },
   "outputs": [],
   "source": [
    "VaR = norm.ppf(0.05, mu, sigma)\n",
    "print('Single day value at risk is: ', VaR)"
   ]
  },
  {
   "cell_type": "markdown",
   "id": "24f9b73a",
   "metadata": {
    "papermill": {
     "duration": 0.186176,
     "end_time": "2021-10-04T12:42:46.982690",
     "exception": false,
     "start_time": "2021-10-04T12:42:46.796514",
     "status": "completed"
    },
    "tags": []
   },
   "source": [
    "#### What is the Mu and Sigma for the stock at 5 and 95 percentile?"
   ]
  },
  {
   "cell_type": "code",
   "execution_count": null,
   "id": "19eb7ca1",
   "metadata": {
    "papermill": {
     "duration": 0.202361,
     "end_time": "2021-10-04T12:42:47.371242",
     "exception": false,
     "start_time": "2021-10-04T12:42:47.168881",
     "status": "completed"
    },
    "tags": []
   },
   "outputs": [],
   "source": [
    "# Quantile \n",
    "# 5% quantile\n",
    "print('5% quantile ', norm.ppf(0.05, mu, sigma))\n",
    "# 95% quantile\n",
    "print('95% quantile ', norm.ppf(0.95, mu, sigma))"
   ]
  },
  {
   "cell_type": "markdown",
   "id": "6a134d29",
   "metadata": {
    "papermill": {
     "duration": 0.187824,
     "end_time": "2021-10-04T12:42:47.747320",
     "exception": false,
     "start_time": "2021-10-04T12:42:47.559496",
     "status": "completed"
    },
    "tags": []
   },
   "source": [
    "#### What is the confidence level at various levels?"
   ]
  },
  {
   "cell_type": "code",
   "execution_count": null,
   "id": "f5eab6f9",
   "metadata": {
    "papermill": {
     "duration": 0.211323,
     "end_time": "2021-10-04T12:42:48.145888",
     "exception": false,
     "start_time": "2021-10-04T12:42:47.934565",
     "status": "completed"
    },
    "tags": []
   },
   "outputs": [],
   "source": [
    "sbux['logReturn'] = np.log(sbux['Close'].shift(-1)) - np.log(sbux['Close'])\n",
    "sample_size = sbux['logReturn'].shape[0]\n",
    "sample_mean = sbux['logReturn'].mean()\n",
    "sample_std = sbux['logReturn'].std(ddof=1) / sample_size**0.5\n",
    "# left and right quantile\n",
    "for i in range(1,10):\n",
    "    z_left = norm.ppf(0.05*i)\n",
    "    z_right = norm.ppf((1-0.05*i))\n",
    "    interval_left = sample_mean+z_left*sample_std\n",
    "    interval_right = sample_mean+z_right*sample_std\n",
    "    print('%d percent confidence interval is ' % (100-i*2*5), ( round(interval_left,6), round(interval_right,6)))"
   ]
  },
  {
   "cell_type": "markdown",
   "id": "6fd4c869",
   "metadata": {
    "papermill": {
     "duration": 0.186133,
     "end_time": "2021-10-04T12:42:48.521204",
     "exception": false,
     "start_time": "2021-10-04T12:42:48.335071",
     "status": "completed"
    },
    "tags": []
   },
   "source": [
    "# [4️⃣.1️⃣ MACD Forecasting of data using Pandas TA](#4.1)"
   ]
  },
  {
   "cell_type": "markdown",
   "id": "5eab25a6",
   "metadata": {
    "papermill": {
     "duration": 0.188636,
     "end_time": "2021-10-04T12:42:49.109876",
     "exception": false,
     "start_time": "2021-10-04T12:42:48.921240",
     "status": "completed"
    },
    "tags": []
   },
   "source": [
    "### Let us do a bit of MACD based Trading indicators\n",
    "\n",
    "\n",
    "##### Inspiration from Alpharithms -  https://www.alpharithms.com/calculate-macd-python-272222/"
   ]
  },
  {
   "cell_type": "markdown",
   "id": "59b9f772",
   "metadata": {
    "papermill": {
     "duration": 0.188974,
     "end_time": "2021-10-04T12:42:49.484242",
     "exception": false,
     "start_time": "2021-10-04T12:42:49.295268",
     "status": "completed"
    },
    "tags": []
   },
   "source": [
    "#### Created MACD Values"
   ]
  },
  {
   "cell_type": "code",
   "execution_count": null,
   "id": "28e0676e",
   "metadata": {
    "_kg_hide-output": true,
    "papermill": {
     "duration": 0.29034,
     "end_time": "2021-10-04T12:42:49.961825",
     "exception": false,
     "start_time": "2021-10-04T12:42:49.671485",
     "status": "completed"
    },
    "tags": []
   },
   "outputs": [],
   "source": [
    "\n",
    "# Get the 26-day EMA of the closing price\n",
    "k = sbux['Close'].ewm(span=12, adjust=False, min_periods=12).mean()\n",
    "# Get the 12-day EMA of the closing price\n",
    "d = sbux['Close'].ewm(span=26, adjust=False, min_periods=26).mean()\n",
    "# Subtract the 26-day EMA from the 12-Day EMA to get the MACD\n",
    "macd = k - d\n",
    "# Get the 9-Day EMA of the MACD for the Trigger line\n",
    "macd_s = macd.ewm(span=9, adjust=False, min_periods=9).mean()\n",
    "# Calculate the difference between the MACD - Trigger for the Convergence/Divergence value\n",
    "macd_h = macd - macd_s\n",
    "# Add all of our new values for the MACD to the dataframe\n",
    "sbux['macd'] = sbux.index.map(macd)\n",
    "sbux['macd_h'] = sbux.index.map(macd_h)\n",
    "sbux['macd_s'] = sbux.index.map(macd_s)\n",
    "# View our data\n",
    "pd.set_option(\"display.max_columns\", None)\n",
    "print(sbux)"
   ]
  },
  {
   "cell_type": "markdown",
   "id": "048dbef2",
   "metadata": {
    "papermill": {
     "duration": 0.181383,
     "end_time": "2021-10-04T12:42:50.327729",
     "exception": false,
     "start_time": "2021-10-04T12:42:50.146346",
     "status": "completed"
    },
    "tags": []
   },
   "source": [
    "#### Calculate MACD through Pandas Technical Analysis Library"
   ]
  },
  {
   "cell_type": "code",
   "execution_count": null,
   "id": "adc007b1",
   "metadata": {
    "_kg_hide-input": true,
    "_kg_hide-output": true,
    "papermill": {
     "duration": 10.128503,
     "end_time": "2021-10-04T12:43:00.640835",
     "exception": false,
     "start_time": "2021-10-04T12:42:50.512332",
     "status": "completed"
    },
    "tags": []
   },
   "outputs": [],
   "source": [
    "try: \n",
    "    import pandas_ta as ta\n",
    "except:\n",
    "    !pip install pandas_ta\n",
    "    import pandas_ta as ta\n",
    "\n"
   ]
  },
  {
   "cell_type": "code",
   "execution_count": null,
   "id": "fde77152",
   "metadata": {
    "_kg_hide-output": true,
    "papermill": {
     "duration": 0.223275,
     "end_time": "2021-10-04T12:43:01.056747",
     "exception": false,
     "start_time": "2021-10-04T12:43:00.833472",
     "status": "completed"
    },
    "tags": []
   },
   "outputs": [],
   "source": [
    "\n",
    "# Calculate MACD values using the pandas_ta library\n",
    "sbux2.ta.macd(close='close', fast=12, slow=26, signal=9, append=True)\n",
    "# View result\n",
    "pd.set_option(\"display.max_columns\", None)  # show all columns\n",
    "print(sbux2)"
   ]
  },
  {
   "cell_type": "markdown",
   "id": "3e8cf456",
   "metadata": {
    "papermill": {
     "duration": 0.187049,
     "end_time": "2021-10-04T12:43:01.433002",
     "exception": false,
     "start_time": "2021-10-04T12:43:01.245953",
     "status": "completed"
    },
    "tags": []
   },
   "source": [
    "### Let us do some plotting"
   ]
  },
  {
   "cell_type": "code",
   "execution_count": null,
   "id": "52101b12",
   "metadata": {
    "papermill": {
     "duration": 1.644142,
     "end_time": "2021-10-04T12:43:03.264795",
     "exception": false,
     "start_time": "2021-10-04T12:43:01.620653",
     "status": "completed"
    },
    "tags": []
   },
   "outputs": [],
   "source": [
    "from plotly.subplots import make_subplots\n",
    "import plotly.graph_objects as go\n",
    "\n",
    "# calculate MACD values\n",
    "sbux2.ta.macd(close='close', fast=12, slow=26, append=True)\n",
    "# Force lowercase (optional)\n",
    "sbux2.columns = [x.lower() for x in sbux2.columns]\n",
    "# Construct a 2 x 1 Plotly figure\n",
    "fig = make_subplots(rows=2, cols=1)\n",
    "# price Line\n",
    "fig.append_trace(\n",
    "    go.Scatter(\n",
    "        x=sbux2.index,\n",
    "        y=sbux2['open'],\n",
    "        line=dict(color='lawngreen', width=1),\n",
    "        name='open',\n",
    "        # showlegend=False,\n",
    "        legendgroup='1',\n",
    "    ), row=1, col=1\n",
    ")\n",
    "# Candlestick chart for pricing\n",
    "fig.append_trace(\n",
    "    go.Candlestick(\n",
    "        x=sbux2.index,\n",
    "        open=sbux2['open'],\n",
    "        high=sbux2['high'],\n",
    "        low=sbux2['low'],\n",
    "        close=sbux2['close'],\n",
    "        increasing_line_color='lawngreen',\n",
    "        decreasing_line_color='black',\n",
    "        showlegend=False\n",
    "    ), row=1, col=1\n",
    ")\n",
    "# Fast Signal (%k)\n",
    "fig.append_trace(\n",
    "    go.Scatter(\n",
    "        x=sbux2.index,\n",
    "        y=sbux2['macd_12_26_9'],\n",
    "        line=dict(color='lawngreen', width=2),\n",
    "        name='macd',\n",
    "        # showlegend=False,\n",
    "        legendgroup='2',\n",
    "    ), row=2, col=1\n",
    ")\n",
    "# Slow signal (%d)\n",
    "fig.append_trace(\n",
    "    go.Scatter(\n",
    "        x=sbux2.index,\n",
    "        y=sbux2['macds_12_26_9'],\n",
    "        line=dict(color='mediumblue', width=2),\n",
    "        # showlegend=False,\n",
    "        legendgroup='2',\n",
    "        name='signal'\n",
    "    ), row=2, col=1\n",
    ")\n",
    "# Colorize the histogram values\n",
    "colors = np.where(sbux2['macdh_12_26_9'] < 0, '#000', 'lawngreen')\n",
    "# Plot the histogram\n",
    "fig.append_trace(\n",
    "    go.Bar(\n",
    "        x=sbux2.index,\n",
    "        y=sbux2['macdh_12_26_9'],\n",
    "        name='histogram',\n",
    "        marker_color=colors,\n",
    "    ), row=2, col=1\n",
    ")\n",
    "# Make it pretty\n",
    "layout = go.Layout(\n",
    "    plot_bgcolor='linen',\n",
    "    # Font Families\n",
    "    font_family='Monospace',\n",
    "    font_color='mediumblue',\n",
    "    font_size=20,\n",
    "    xaxis=dict(\n",
    "        rangeslider=dict(\n",
    "            visible=False\n",
    "        )\n",
    "    )\n",
    ")\n",
    "# Update options and show plot\n",
    "fig.update_layout(layout)\n",
    "fig.update_layout(height=800,width=1200,dragmode='lasso')\n",
    "fig.show()"
   ]
  },
  {
   "cell_type": "markdown",
   "id": "9f8a2e67",
   "metadata": {
    "papermill": {
     "duration": 0.23315,
     "end_time": "2021-10-04T12:43:03.734526",
     "exception": false,
     "start_time": "2021-10-04T12:43:03.501376",
     "status": "completed"
    },
    "tags": []
   },
   "source": [
    "# [5️⃣ Let us do a financial ratios calculation using FINTA library](#5)"
   ]
  },
  {
   "cell_type": "markdown",
   "id": "23f05390",
   "metadata": {
    "papermill": {
     "duration": 0.236993,
     "end_time": "2021-10-04T12:43:04.208104",
     "exception": false,
     "start_time": "2021-10-04T12:43:03.971111",
     "status": "completed"
    },
    "tags": []
   },
   "source": [
    "* Simple Moving Average 'SMA'\n",
    "* Simple Moving Median 'SMM'\n",
    "* Smoothed Simple Moving Average 'SSMA'\n",
    "* Exponential Moving Average 'EMA'\n",
    "* Double Exponential Moving Average 'DEMA'\n",
    "* Triple Exponential Moving Average 'TEMA'\n",
    "* Triangular Moving Average 'TRIMA'\n",
    "* Triple Exponential Moving Average Oscillator 'TRIX'\n",
    "* Volume Adjusted Moving Average 'VAMA'\n",
    "* Kaufman Efficiency Indicator 'ER'\n",
    "* Kaufman's Adaptive Moving Average 'KAMA'\n",
    "* Zero Lag Exponential Moving Average 'ZLEMA'\n",
    "* Weighted Moving Average 'WMA'\n",
    "* Hull Moving Average 'HMA'\n",
    "* Elastic Volume Moving Average 'EVWMA'\n",
    "* Volume Weighted Average Price 'VWAP'\n",
    "* Smoothed Moving Average 'SMMA'\n",
    "* Fractal Adaptive Moving Average 'FRAMA'\n",
    "* Moving Average Convergence Divergence 'MACD'\n",
    "* Percentage Price Oscillator 'PPO'\n",
    "* Volume-Weighted MACD 'VW_MACD'\n",
    "* Elastic-Volume weighted MACD 'EV_MACD'\n",
    "* Market Momentum 'MOM'\n",
    "* Rate-of-Change 'ROC'\n",
    "* Relative Strenght Index 'RSI'\n",
    "* Inverse Fisher Transform RSI 'IFT_RSI'\n",
    "* True Range 'TR'\n",
    "* Average True Range 'ATR'\n",
    "* Stop-and-Reverse 'SAR'\n",
    "* Bollinger Bands 'BBANDS'\n",
    "* Bollinger Bands Width 'BBWIDTH'\n",
    "* Momentum Breakout Bands 'MOBO'\n",
    "* Percent B 'PERCENT_B'\n",
    "* Keltner Channels 'KC'\n",
    "* Donchian Channel 'DO'\n",
    "* Directional Movement Indicator 'DMI'\n",
    "* Average Directional Index 'ADX'\n",
    "* Pivot Points 'PIVOT'\n",
    "* Fibonacci Pivot Points 'PIVOT_FIB'\n",
    "* Stochastic Oscillator %K 'STOCH'\n",
    "* Stochastic oscillator %D 'STOCHD'\n",
    "* Stochastic RSI 'STOCHRSI'\n",
    "* Williams %R 'WILLIAMS'\n",
    "* Ultimate Oscillator 'UO'\n",
    "* Awesome Oscillator 'AO'\n",
    "* Mass Index 'MI'\n",
    "* Vortex Indicator 'VORTEX'\n",
    "* Know Sure Thing 'KST'\n",
    "* True Strength Index 'TSI'\n",
    "* Typical Price 'TP'\n",
    "* Accumulation-Distribution Line 'ADL'\n",
    "* Chaikin Oscillator 'CHAIKIN'\n",
    "* Money Flow Index 'MFI'\n",
    "* On Balance Volume 'OBV'\n",
    "* Weighter OBV 'WOBV'\n",
    "* Volume Zone Oscillator 'VZO'\n",
    "* Price Zone Oscillator 'PZO'\n",
    "* Elder's Force Index 'EFI'\n",
    "* Cummulative Force Index 'CFI'\n",
    "* Bull power and Bear Power 'EBBP'\n",
    "* Ease of Movement 'EMV'\n",
    "* Commodity Channel Index 'CCI'\n",
    "* Coppock Curve 'COPP'\n",
    "* Buy and Sell Pressure 'BASP'\n",
    "* Normalized BASP 'BASPN'\n",
    "* Chande Momentum Oscillator 'CMO'\n",
    "* Chandelier Exit 'CHANDELIER'\n",
    "* Qstick 'QSTICK'\n",
    "* Twiggs Money Index 'TMF'\n",
    "* Wave Trend Oscillator 'WTO'\n",
    "* Fisher Transform 'FISH'\n",
    "* Ichimoku Cloud 'ICHIMOKU'\n",
    "* Adaptive Price Zone 'APZ'\n",
    "* Squeeze Momentum Indicator 'SQZMI'\n",
    "* Volume Price Trend 'VPT'\n",
    "* Finite Volume Element 'FVE'\n",
    "* Volume Flow Indicator 'VFI'\n",
    "* Moving Standard deviation 'MSD'\n",
    "* Schaff Trend Cycle 'STC'\n"
   ]
  },
  {
   "cell_type": "code",
   "execution_count": null,
   "id": "392ee4eb",
   "metadata": {
    "papermill": {
     "duration": 13.976162,
     "end_time": "2021-10-04T12:43:18.422592",
     "exception": false,
     "start_time": "2021-10-04T12:43:04.446430",
     "status": "completed"
    },
    "tags": []
   },
   "outputs": [],
   "source": [
    "try:\n",
    "    from finta import TA\n",
    "    from backtesting import Backtest, Strategy\n",
    "    from backtesting.lib import crossover\n",
    "except:\n",
    "    !pip install finta backtesting\n",
    "    from finta import TA\n",
    "    from backtesting import Backtest, Strategy\n",
    "    from backtesting.lib import crossover\n"
   ]
  },
  {
   "cell_type": "code",
   "execution_count": null,
   "id": "a053e21c",
   "metadata": {
    "papermill": {
     "duration": 0.378485,
     "end_time": "2021-10-04T12:43:19.043996",
     "exception": false,
     "start_time": "2021-10-04T12:43:18.665511",
     "status": "completed"
    },
    "tags": []
   },
   "outputs": [],
   "source": [
    "fin_sbux = pd.read_csv('s3://databeanstalk-community/data/Starbucks_stock_history.csv', index_col=\"Date\", parse_dates=True)\n",
    "print(fin_sbux.head())\n",
    "ohlc=fin_sbux\n",
    "print(TA.SMA(ohlc, 42))\n",
    "#will return Pandas Series object with \"Awesome oscillator\" values\n",
    "TA.AO(ohlc)\n",
    "#expects [\"volume\"] column as input\n",
    "print(TA.OBV(ohlc))\n",
    "#will return Series with Bollinger Bands columns [BB_UPPER, BB_LOWER]\n",
    "print(TA.BBANDS(ohlc))\n",
    "#will return Series with calculated BBANDS values but will use KAMA instead of MA for calculation, other types of Moving Averages are allowed as well.\n",
    "print(TA.BBANDS(ohlc, MA=TA.KAMA(ohlc, 20)))"
   ]
  },
  {
   "cell_type": "markdown",
   "id": "b9aad86f",
   "metadata": {
    "papermill": {
     "duration": 0.31072,
     "end_time": "2021-10-04T12:43:36.135227",
     "exception": false,
     "start_time": "2021-10-04T12:43:35.824507",
     "status": "completed"
    },
    "tags": []
   },
   "source": [
    "## Use backtesting library to do a simple data backtesting"
   ]
  },
  {
   "cell_type": "code",
   "execution_count": null,
   "id": "cc60004b",
   "metadata": {
    "papermill": {
     "duration": 0.30438,
     "end_time": "2021-10-04T12:43:36.751504",
     "exception": false,
     "start_time": "2021-10-04T12:43:36.447124",
     "status": "completed"
    },
    "tags": []
   },
   "outputs": [],
   "source": [
    "# Defining DEMA cross strategy\n",
    "class DemaCross(Strategy):\n",
    "\n",
    "    def init(self):\n",
    "\n",
    "        self.ma1 = self.I(TA.DEMA, ohlc, 10)\n",
    "        self.ma2 = self.I(TA.DEMA, ohlc, 20)\n",
    "\n",
    "    def next(self):\n",
    "        if crossover(self.ma1, self.ma2):\n",
    "            self.buy()\n",
    "        elif crossover(self.ma2, self.ma1):\n",
    "            self.sell()"
   ]
  },
  {
   "cell_type": "code",
   "execution_count": null,
   "id": "41ef2ae1",
   "metadata": {
    "papermill": {
     "duration": 0.306319,
     "end_time": "2021-10-04T12:43:37.348063",
     "exception": false,
     "start_time": "2021-10-04T12:43:37.041744",
     "status": "completed"
    },
    "tags": []
   },
   "outputs": [],
   "source": [
    "bt = Backtest(ohlc, DemaCross,\n",
    "              cash=10000, commission=0.025)"
   ]
  },
  {
   "cell_type": "markdown",
   "id": "fa8df2e4",
   "metadata": {
    "papermill": {
     "duration": 0.291488,
     "end_time": "2021-10-04T12:43:37.936059",
     "exception": false,
     "start_time": "2021-10-04T12:43:37.644571",
     "status": "completed"
    },
    "tags": []
   },
   "source": [
    "### Let us check the Backtesting summary"
   ]
  },
  {
   "cell_type": "code",
   "execution_count": null,
   "id": "22bca398",
   "metadata": {
    "papermill": {
     "duration": 0.404085,
     "end_time": "2021-10-04T12:43:38.632623",
     "exception": false,
     "start_time": "2021-10-04T12:43:38.228538",
     "status": "completed"
    },
    "tags": []
   },
   "outputs": [],
   "source": [
    "bt.run()"
   ]
  },
  {
   "cell_type": "markdown",
   "id": "87408049",
   "metadata": {
    "papermill": {
     "duration": 0.309107,
     "end_time": "2021-10-04T12:43:39.250908",
     "exception": false,
     "start_time": "2021-10-04T12:43:38.941801",
     "status": "completed"
    },
    "tags": []
   },
   "source": [
    "## It is very evidend that albeit some volatility, it is a pretty solid long term stock with outstanding run over last 5 years."
   ]
  },
  {
   "cell_type": "markdown",
   "id": "b0844486",
   "metadata": {
    "papermill": {
     "duration": 0.29439,
     "end_time": "2021-10-04T12:43:39.888910",
     "exception": false,
     "start_time": "2021-10-04T12:43:39.594520",
     "status": "completed"
    },
    "tags": []
   },
   "source": [
    "> "
   ]
  },
  {
   "cell_type": "markdown",
   "id": "3edb7737",
   "metadata": {
    "papermill": {
     "duration": 0.295405,
     "end_time": "2021-10-04T12:43:40.482382",
     "exception": false,
     "start_time": "2021-10-04T12:43:40.186977",
     "status": "completed"
    },
    "tags": []
   },
   "source": []
  },
  {
   "cell_type": "markdown",
   "id": "a00df424",
   "metadata": {
    "papermill": {
     "duration": 0.291357,
     "end_time": "2021-10-04T12:43:41.065835",
     "exception": false,
     "start_time": "2021-10-04T12:43:40.774478",
     "status": "completed"
    },
    "tags": []
   },
   "source": [
    "# [6️⃣ Let us do a financial ratios calculation](#6)\n"
   ]
  },
  {
   "cell_type": "markdown",
   "id": "e87d8633",
   "metadata": {
    "papermill": {
     "duration": 0.295311,
     "end_time": "2021-10-04T12:43:41.693323",
     "exception": false,
     "start_time": "2021-10-04T12:43:41.398012",
     "status": "completed"
    },
    "tags": []
   },
   "source": [
    "### Let us try Sharpe Ratio"
   ]
  },
  {
   "cell_type": "code",
   "execution_count": null,
   "id": "d7fcb463",
   "metadata": {
    "papermill": {
     "duration": 0.320613,
     "end_time": "2021-10-04T12:43:42.353984",
     "exception": false,
     "start_time": "2021-10-04T12:43:42.033371",
     "status": "completed"
    },
    "tags": []
   },
   "outputs": [],
   "source": [
    "def sharpe_ratio(return_series, N, rf):\n",
    "    mean = return_series.mean() * N -rf\n",
    "    sigma = return_series.std() * np.sqrt(N)\n",
    "    return mean / sigma\n",
    "\n",
    "N = 255 #255 trading days in a year\n",
    "rf =0.018 #1.8% risk free rate\n",
    "sbux.columns\n",
    "temp_df=sbux[['Close']]\n",
    "sharpes = temp_df.apply(sharpe_ratio, args=(N,rf,))#,axis=0)\n",
    "print(\"The Sharpe Ratio for the stock i =\" , round(sharpes[0],2))"
   ]
  },
  {
   "cell_type": "code",
   "execution_count": null,
   "id": "1a15e56a",
   "metadata": {
    "papermill": {
     "duration": 0.312555,
     "end_time": "2021-10-04T12:43:42.966926",
     "exception": false,
     "start_time": "2021-10-04T12:43:42.654371",
     "status": "completed"
    },
    "tags": []
   },
   "outputs": [],
   "source": [
    "def calculate_sortino(series,N, rf):\n",
    "    expected_return = np.mean(series)\n",
    "    below_avg = [i for i in series if i < expected_return]\n",
    "    risk_free = rf\n",
    "    sortino = (expected_return - risk_free) / np.std(below_avg)\n",
    "    return round(sortino, 2)\n",
    "\n",
    "sortinos = temp_df.apply(calculate_sortino, args=(N,rf,))\n",
    "print(\"The Sortino Ratio for the stock is =\" , round(sortinos[0],2))"
   ]
  },
  {
   "cell_type": "code",
   "execution_count": null,
   "id": "427704c9",
   "metadata": {
    "papermill": {
     "duration": 0.311515,
     "end_time": "2021-10-04T12:43:43.573325",
     "exception": false,
     "start_time": "2021-10-04T12:43:43.261810",
     "status": "completed"
    },
    "tags": []
   },
   "outputs": [],
   "source": [
    "def max_drawdown(return_series):\n",
    "    comp_ret = (return_series+1).cumprod()\n",
    "    peak = comp_ret.expanding(min_periods=1).max()\n",
    "    dd = (comp_ret/peak)-1\n",
    "    return dd.min()\n",
    "\n",
    "\n",
    "max_drawdowns = temp_df.apply(max_drawdown,axis=0)\n",
    "print(\"The max_drawdowns Ratio for the stock is =\" , round(max_drawdowns[0],2))"
   ]
  },
  {
   "cell_type": "markdown",
   "id": "f40f4a3f",
   "metadata": {
    "papermill": {
     "duration": 0.295625,
     "end_time": "2021-10-04T12:43:44.163051",
     "exception": false,
     "start_time": "2021-10-04T12:43:43.867426",
     "status": "completed"
    },
    "tags": []
   },
   "source": [
    "## Try Bollinger Bands Price"
   ]
  },
  {
   "cell_type": "code",
   "execution_count": null,
   "id": "b0deea91",
   "metadata": {
    "papermill": {
     "duration": 0.304417,
     "end_time": "2021-10-04T12:43:44.765949",
     "exception": false,
     "start_time": "2021-10-04T12:43:44.461532",
     "status": "completed"
    },
    "tags": []
   },
   "outputs": [],
   "source": [
    "def bollinger_bands_price(price):\n",
    "    up, mid, low = BBANDS(close, timeperiod=20, nbdevup=2, nbdevdn=2, matype=0)\n",
    "    bollinger_bands_price = (price['Close'] - low) / (up - low)\n",
    "    return bollinger_bands_price"
   ]
  },
  {
   "cell_type": "markdown",
   "id": "1e906a3c",
   "metadata": {
    "papermill": {
     "duration": 0.299082,
     "end_time": "2021-10-04T12:43:45.360803",
     "exception": false,
     "start_time": "2021-10-04T12:43:45.061721",
     "status": "completed"
    },
    "tags": []
   },
   "source": [
    "# [7️⃣ Let us do a bit of forecasting using Regression ](#7)\n",
    "\n",
    " Some inspiration from the following post as well\n",
    "*  [MLQ.AI](https://www.mlq.ai/price-prediction-with-linear-regression/)\n"
   ]
  },
  {
   "cell_type": "code",
   "execution_count": null,
   "id": "1d70cbc0",
   "metadata": {
    "papermill": {
     "duration": 0.600959,
     "end_time": "2021-10-04T12:43:46.257800",
     "exception": false,
     "start_time": "2021-10-04T12:43:45.656841",
     "status": "completed"
    },
    "tags": []
   },
   "outputs": [],
   "source": [
    "# Histogram of the daily price change percent of 'Close' price\n",
    "sbux['Close'].pct_change().plot.hist(bins=50)\n",
    "plt.title('Daily Price: 1-Day Percent Change')\n",
    "plt.show() "
   ]
  },
  {
   "cell_type": "code",
   "execution_count": null,
   "id": "04c5a5f9",
   "metadata": {
    "papermill": {
     "duration": 0.31593,
     "end_time": "2021-10-04T12:43:46.888586",
     "exception": false,
     "start_time": "2021-10-04T12:43:46.572656",
     "status": "completed"
    },
    "tags": []
   },
   "outputs": [],
   "source": [
    "# Create 5-day % changes of Last for the current day, and 5 days in the future\n",
    "sbux['5d_future_close'] = sbux['Close'].shift(-5)\n",
    "sbux['5d_close_future_pct'] = sbux['5d_future_close'].pct_change(5)\n",
    "sbux['5d_close_pct'] = sbux['Close'].pct_change(5)"
   ]
  },
  {
   "cell_type": "code",
   "execution_count": null,
   "id": "61f31d96",
   "metadata": {
    "papermill": {
     "duration": 0.327245,
     "end_time": "2021-10-04T12:43:47.527675",
     "exception": false,
     "start_time": "2021-10-04T12:43:47.200430",
     "status": "completed"
    },
    "tags": []
   },
   "outputs": [],
   "source": [
    "# Calculate the correlation matrix between the 5d close pecentage changes (current and future)\n",
    "corr = sbux[['5d_close_pct', '5d_close_future_pct']].corr()"
   ]
  },
  {
   "cell_type": "code",
   "execution_count": null,
   "id": "00c87c5b",
   "metadata": {
    "papermill": {
     "duration": 0.555675,
     "end_time": "2021-10-04T12:43:48.386481",
     "exception": false,
     "start_time": "2021-10-04T12:43:47.830806",
     "status": "completed"
    },
    "tags": []
   },
   "outputs": [],
   "source": [
    "# Scatter the current 5-day percent change vs the future 5-day percent change\n",
    "plt.scatter(sbux['5d_close_pct'], sbux['5d_close_future_pct'])\n",
    "plt.title('Current vs. Future 5-Day % Change')\n",
    "plt.show()"
   ]
  },
  {
   "cell_type": "code",
   "execution_count": null,
   "id": "8870526f",
   "metadata": {
    "papermill": {
     "duration": 0.30696,
     "end_time": "2021-10-04T12:43:48.990851",
     "exception": false,
     "start_time": "2021-10-04T12:43:48.683891",
     "status": "completed"
    },
    "tags": []
   },
   "outputs": [],
   "source": [
    "# a list of the feature names for later\n",
    "feature_names = ['5d_close_pct']  "
   ]
  },
  {
   "cell_type": "code",
   "execution_count": null,
   "id": "050ddb33",
   "metadata": {
    "papermill": {
     "duration": 0.322355,
     "end_time": "2021-10-04T12:43:49.613700",
     "exception": false,
     "start_time": "2021-10-04T12:43:49.291345",
     "status": "completed"
    },
    "tags": []
   },
   "outputs": [],
   "source": [
    "# Drop all na values\n",
    "sbux = sbux.dropna()\n",
    "\n",
    "# Create features and targets\n",
    "# use feature_names for features; 5d_close_future_pct for targets\n",
    "features = sbux[feature_names]\n",
    "targets = sbux['5d_close_future_pct']\n",
    "\n",
    "# Create DataFrame from target column and feature columns\n",
    "feat_targ_df = sbux[['5d_close_future_pct'] + feature_names]\n",
    "\n",
    "# Calculate correlation matrix\n",
    "corr = feat_targ_df.corr()\n",
    "print(corr)"
   ]
  },
  {
   "cell_type": "code",
   "execution_count": null,
   "id": "1b7b598e",
   "metadata": {
    "papermill": {
     "duration": 0.575667,
     "end_time": "2021-10-04T12:43:50.485997",
     "exception": false,
     "start_time": "2021-10-04T12:43:49.910330",
     "status": "completed"
    },
    "tags": []
   },
   "outputs": [],
   "source": [
    "import seaborn as sns\n",
    "# Plot heatmap of correlation matrix\n",
    "sns.heatmap(corr, annot=True)\n",
    "plt.yticks(rotation=0); plt.xticks(rotation=90) # fix ticklabel directions\n",
    "plt.show() # show the plot"
   ]
  },
  {
   "cell_type": "code",
   "execution_count": null,
   "id": "10a9f675",
   "metadata": {
    "papermill": {
     "duration": 1.378821,
     "end_time": "2021-10-04T12:43:52.180348",
     "exception": false,
     "start_time": "2021-10-04T12:43:50.801527",
     "status": "completed"
    },
    "tags": []
   },
   "outputs": [],
   "source": [
    "import statsmodels.api as sm\n",
    "\n",
    "# Add a constant to the features\n",
    "linear_features = sm.add_constant(features)\n",
    "\n",
    "# Create a size for the training set that is 80% of the total number of rows\n",
    "#.shape gives us the number of rows in our data, and convert to an int\n",
    "train_size = int(0.8 * features.shape[0])\n",
    "\n",
    "# split features and targets using python indexing\n",
    "train_features = linear_features[:train_size]\n",
    "train_targets = targets[:train_size]\n",
    "test_features = linear_features[train_size:]\n",
    "test_targets = targets[train_size:]\n",
    "print(linear_features.shape, train_features.shape, test_features.shape)"
   ]
  },
  {
   "cell_type": "code",
   "execution_count": null,
   "id": "4a5ed7a7",
   "metadata": {
    "papermill": {
     "duration": 0.488486,
     "end_time": "2021-10-04T12:43:52.968760",
     "exception": false,
     "start_time": "2021-10-04T12:43:52.480274",
     "status": "completed"
    },
    "tags": []
   },
   "outputs": [],
   "source": [
    "# Create the linear model and complete the least squares fit\n",
    "model = sm.OLS(train_targets, train_features)\n",
    "results = model.fit()  # fit the model\n",
    "print(results.summary())\n",
    "\n",
    "# examine pvalues\n",
    "# Features with p <= 0.05 are typically considered significantly different from 0\n",
    "print(results.pvalues)\n",
    "\n",
    "# Make predictions from our model for train and test sets\n",
    "train_predictions = results.predict(train_features)\n",
    "test_predictions = results.predict(test_features)"
   ]
  },
  {
   "cell_type": "markdown",
   "id": "f9107df7",
   "metadata": {
    "papermill": {
     "duration": 0.313981,
     "end_time": "2021-10-04T12:43:53.653980",
     "exception": false,
     "start_time": "2021-10-04T12:43:53.339999",
     "status": "completed"
    },
    "tags": []
   },
   "source": [
    "# [8️⃣ Let us do a Forecasting using FB Prophet ](#8)\n"
   ]
  },
  {
   "cell_type": "markdown",
   "id": "7583f1ca",
   "metadata": {
    "execution": {
     "iopub.execute_input": "2021-09-26T07:44:17.916789Z",
     "iopub.status.busy": "2021-09-26T07:44:17.916384Z",
     "iopub.status.idle": "2021-09-26T07:44:17.932252Z",
     "shell.execute_reply": "2021-09-26T07:44:17.930754Z",
     "shell.execute_reply.started": "2021-09-26T07:44:17.916742Z"
    },
    "papermill": {
     "duration": 0.298999,
     "end_time": "2021-10-04T12:43:54.261615",
     "exception": false,
     "start_time": "2021-10-04T12:43:53.962616",
     "status": "completed"
    },
    "tags": []
   },
   "source": [
    "# Use of Facebook Prophet for Stock Forecasting\n",
    "## Starbucks Stock forecast \n",
    "* This kernel uses Facebook Prophet (which uses SKLEARN) and Neural Prophet (which uses PyTorch) libaries to predict stocks. This kernel splits the NASDAQ stocks into ten folds and creates 10 output files each for the stocks in a PDF Format\n",
    "\n",
    "###  Yahoo! DataReader Download\n",
    "<div class=\"alert alert-block alert-info\">\n",
    "<b>Step-1:</b> Download data using Yahoo! Finance Data Reader</div>\n",
    "\n",
    "###  Facebook Prophet Models\n",
    "<div class=\"alert alert-block alert-info\">\n",
    "<b>Step-2:</b> Build Facebook Prophet Input dataset</div>\n",
    "<div class=\"alert alert-block alert-info\">\n",
    "<b>Step-3:</b> Run Prophet Model</div>\n",
    "<div class=\"alert alert-block alert-info\">\n",
    "<b>Step-4:</b> Generate Model Visualization </div>\n",
    "<div class=\"alert alert-block alert-info\">\n",
    "<b>Step-5:</b> Generate the Image Files </div>\n",
    "<div class=\"alert alert-block alert-info\">\n",
    "<b>Step-6:</b> Consolidate Image Files for Facebook Prophet Model </div>\n",
    "\n",
    "###  Neural Prophet Models\n",
    "<div class=\"alert alert-block alert-warning\">\n",
    "<b>Step-7-11:</b> Repeat Steps 2-6 for Neural Prophet Model </div>\n",
    "\n"
   ]
  },
  {
   "cell_type": "code",
   "execution_count": null,
   "id": "1f8dc4d1",
   "metadata": {
    "papermill": {
     "duration": 0.310742,
     "end_time": "2021-10-04T12:43:56.251495",
     "exception": false,
     "start_time": "2021-10-04T12:43:55.940753",
     "status": "completed"
    },
    "tags": []
   },
   "outputs": [],
   "source": [
    "def plot_close_val(data_frame, column, stock):\n",
    "    plt.figure(figsize=(16,6))\n",
    "    plt.title(column + ' Price History for ' + stock )\n",
    "    plt.plot(data_frame[column])\n",
    "    plt.xlabel('Date', fontsize=18)\n",
    "    plt.ylabel(column + ' Price USD ($) for ' + stock, fontsize=18)\n",
    "    plt.show()"
   ]
  },
  {
   "cell_type": "code",
   "execution_count": null,
   "id": "1ff5844f",
   "metadata": {
    "papermill": {
     "duration": 0.316793,
     "end_time": "2021-10-04T12:43:56.868772",
     "exception": false,
     "start_time": "2021-10-04T12:43:56.551979",
     "status": "completed"
    },
    "tags": []
   },
   "outputs": [],
   "source": [
    "def fb_prophet_plot(df, param, stock):\n",
    "    # Check the dataset\n",
    "    #df.head()\n",
    "    # Create Dataset based on the FB Prophet standard ds/y\n",
    "    df2 = pd.DataFrame([], columns = ['ds', 'y'])\n",
    "    df2.columns=['ds','y']\n",
    "    df2['ds']=pd.to_datetime(df.index,format='%Y-%m')\n",
    "    #Assign the Parameter\n",
    "    df2['y']=df[param].values\n",
    "    #check the new DS\n",
    "    #df2.head()\n",
    "    \n",
    "    #create a new Prophet Model\n",
    "    model=Prophet(interval_width=0.95,yearly_seasonality=True)\n",
    "    \n",
    "    #Fit the Model\n",
    "    model.fit(df2)\n",
    "    #Predict the future\n",
    "    future=model.make_future_dataframe(periods=50, freq='MS')\n",
    "    forecast=model.predict(future)\n",
    "    #Save the predicted model\n",
    "    preds= forecast['yhat'][:-50]\n",
    "    #plot the graph\n",
    "    title = 'FB Prophet predictions for ==> ' + stock\n",
    "    plt.figure(figsize=(16,8))\n",
    "    plt.plot(df2.ds,preds,color='#555555',label=' Predictions')\n",
    "    plt.plot(df2.ds,df2.y,color='#1155FF',label='Actual')\n",
    "    plt.title(title)\n",
    "    plt.legend()\n",
    "    plt.show()\n",
    "    figure=model.plot(forecast,xlabel='Date',ylabel='Price')\n",
    "    figure.set_size_inches(16,8)\n",
    "    plt.title(title)\n",
    "    model.plot_components(forecast)\n",
    "    plt.show()"
   ]
  },
  {
   "cell_type": "code",
   "execution_count": null,
   "id": "2a193060",
   "metadata": {
    "papermill": {
     "duration": 21.130763,
     "end_time": "2021-10-04T12:44:18.302121",
     "exception": false,
     "start_time": "2021-10-04T12:43:57.171358",
     "status": "completed"
    },
    "tags": []
   },
   "outputs": [],
   "source": [
    "plot_close_val(sbux, 'Close', 'sbux') # Plot the Closing Price"
   ]
  }
 ],
 "metadata": {
  "kernelspec": {
   "display_name": "Python 3",
   "language": "python",
   "name": "python3"
  },
  "language_info": {
   "codemirror_mode": {
    "name": "ipython",
    "version": 3
   },
   "file_extension": ".py",
   "mimetype": "text/x-python",
   "name": "python",
   "nbconvert_exporter": "python",
   "pygments_lexer": "ipython3",
   "version": "3.9.2"
  },
  "papermill": {
   "default_parameters": {},
   "duration": 161.326529,
   "end_time": "2021-10-04T12:44:20.261759",
   "environment_variables": {},
   "exception": null,
   "input_path": "__notebook__.ipynb",
   "output_path": "__notebook__.ipynb",
   "parameters": {},
   "start_time": "2021-10-04T12:41:38.935230",
   "version": "2.3.3"
  }
 },
 "nbformat": 4,
 "nbformat_minor": 5
}
