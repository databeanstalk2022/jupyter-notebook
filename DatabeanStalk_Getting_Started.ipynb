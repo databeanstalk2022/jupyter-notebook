{
 "cells": [
  {
   "cell_type": "markdown",
   "id": "fa8a43b3-d3ff-46df-8bb5-463c0357f29b",
   "metadata": {
    "tags": []
   },
   "source": [
    "# Welcome to DatabeanStalk!\n",
    "\n",
    "[![Open In DatabeanStalk Lab](https://databeanstalktenants.s3.amazonaws.com/assets/media/logos/logo-2.png)](https://databeanstalk.com)\n",
    "\n",
    "Follow the documentation here!\n",
    "https://docs.databeanstalk.com"
   ]
  },
  {
   "cell_type": "markdown",
   "id": "75c10a5f-5cf1-4217-aff4-a520e7f10b5c",
   "metadata": {},
   "source": [
    "Welcome to DatabeanStalk a Jupyter notebook based development with up to 3 CPU and 6GB RAM runtime environment with 10GB storage. DatabeanStalk support python, R and many data science libraries runtime envionment. You can upload your data and code from local, download online or clone it from your git repository."
   ]
  },
  {
   "cell_type": "markdown",
   "id": "9a57d662-5705-4c2b-a8ca-9cd7a4494fc9",
   "metadata": {},
   "source": [
    "## Creating notebooks, upload data/code or clone repository from git"
   ]
  },
  {
   "cell_type": "markdown",
   "id": "e604e0e3-b58b-4362-b78f-ebdab5c9442e",
   "metadata": {
    "tags": []
   },
   "source": [
    "DatabeanStalk lets you create notebooks, source code files, and access the built-in Terminal. You can do this by clicking on the \"+\" button at the top of the file browser in the left panel to open the Launcher:\n",
    "\n",
    "![Launcher Button](https://databeastalk-test.s3.amazonaws.com/Jupyter-images/plus.png)"
   ]
  },
  {
   "cell_type": "markdown",
   "id": "85dd9969-4a87-4bf2-860c-31dbece50c8f",
   "metadata": {
    "tags": []
   },
   "source": [
    "You can upload data and code from your local file, create a new notebook or folder, clone your git repository mentioned in this scrrenshot.\n",
    "\n",
    "![Launcher Button](https://databeastalk-test.s3.amazonaws.com/Jupyter-images/filie_load.png)"
   ]
  },
  {
   "cell_type": "markdown",
   "id": "5100921a-a627-49e1-b1c0-8723b456800e",
   "metadata": {
    "tags": []
   },
   "source": [
    "All your data files and code will be persitant in storage and you can open your work where you left off."
   ]
  },
  {
   "cell_type": "markdown",
   "id": "5e65c662-49d7-4a5e-837e-34ce2c1901f1",
   "metadata": {},
   "source": [
    "The simplest way of installing Python packages is to use either of the following pip commands in a code cell of a notebook:\n",
    "\n",
    "These magic commands will always install packages into the environment used by that notebook and any packages you install are saved in your persistent project directory. Note: we don't recommend using `!pip` or `!conda` as those can behave in unexpected ways when you have multiple environments.\n",
    "\n",
    "Here is an example that shows how to install NumPy into the environment used by this notebook:"
   ]
  }
 ],
 "metadata": {
  "kernelspec": {
   "display_name": "default:Python",
   "language": "python",
   "name": "conda-env-default-py"
  },
  "language_info": {
   "codemirror_mode": {
    "name": "ipython",
    "version": 3
   },
   "file_extension": ".py",
   "mimetype": "text/x-python",
   "name": "python",
   "nbconvert_exporter": "python",
   "pygments_lexer": "ipython3",
   "version": "3.9.7"
  }
 },
 "nbformat": 4,
 "nbformat_minor": 5
}
