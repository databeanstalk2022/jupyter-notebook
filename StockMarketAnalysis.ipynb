{
 "cells": [
  {
   "cell_type": "markdown",
   "metadata": {},
   "source": [
    "# Welcome to DatabeanStalk!\n",
    "\n",
    "[![Open In DatabeanStalk Lab](https://databeanstalktenants.s3.amazonaws.com/assets/media/logos/logo-2.png)](https://community.databeanstalk.com/user/redirect/lab/workspaces/auto-w/tree/notebooks/DatabeanStalk_Getting_Started.ipynb)\n",
    "\n",
    "Follow the documentation here!\n",
    "https://docs.databeanstalk.com"
   ]
  },
  {
   "cell_type": "markdown",
   "metadata": {},
   "source": [
    "Welcome to DatabeanStalk a Jupyter notebook based development with up to 3 CPU and 6GB RAM runtime environment with 10GB storage. DatabeanStalk support python, R and many data science libraries runtime envionment. You can upload your data and code from local, download online or clone it from your git repository."
   ]
  },
  {
   "cell_type": "markdown",
   "metadata": {},
   "source": [
    "## Initialize Spark session, It will automatically create container inside kubernetes."
   ]
  },
  {
   "cell_type": "code",
   "execution_count": 1,
   "metadata": {},
   "outputs": [
    {
     "name": "stdout",
     "output_type": "stream",
     "text": [
      "Starting Spark application\n"
     ]
    },
    {
     "data": {
      "text/html": [
       "<table>\n",
       "<tr><th>ID</th><th>YARN Application ID</th><th>Kind</th><th>State</th><th>Spark UI</th><th>Driver log</th><th>Current session?</th></tr><tr><td>3</td><td>spark-2f465944a0334fc6a246f267e9e273f1</td><td>pyspark</td><td>idle</td><td></td><td></td><td>✔</td></tr></table>"
      ],
      "text/plain": [
       "<IPython.core.display.HTML object>"
      ]
     },
     "metadata": {},
     "output_type": "display_data"
    },
    {
     "data": {
      "application/vnd.jupyter.widget-view+json": {
       "model_id": "",
       "version_major": 2,
       "version_minor": 0
      },
      "text/plain": [
       "FloatProgress(value=0.0, bar_style='info', description='Progress:', layout=Layout(height='25px', width='50%'),…"
      ]
     },
     "metadata": {},
     "output_type": "display_data"
    },
    {
     "name": "stdout",
     "output_type": "stream",
     "text": [
      "SparkSession available as 'spark'.\n"
     ]
    },
    {
     "data": {
      "application/vnd.jupyter.widget-view+json": {
       "model_id": "",
       "version_major": 2,
       "version_minor": 0
      },
      "text/plain": [
       "FloatProgress(value=0.0, bar_style='info', description='Progress:', layout=Layout(height='25px', width='50%'),…"
      ]
     },
     "metadata": {},
     "output_type": "display_data"
    },
    {
     "name": "stdout",
     "output_type": "stream",
     "text": [
      "<SparkContext master=k8s://https://kubernetes.default.svc.cluster.local:443 appName=livy-session-3>"
     ]
    }
   ],
   "source": [
    "sc"
   ]
  },
  {
   "cell_type": "code",
   "execution_count": 3,
   "metadata": {},
   "outputs": [
    {
     "name": "stdout",
     "output_type": "stream",
     "text": [
      "                           PRE FilmActor/\n",
      "                           PRE TCS/\n",
      "                           PRE TripAdvisor/\n",
      "                           PRE covid-19/\n",
      "                           PRE sbux/\n",
      "2021-10-04 15:58:48          0 \n",
      "2021-10-06 19:58:21   29580549 all_stocks.csv\n",
      "2021-11-09 23:01:57       3272 safegraph_patterns_simulated__1_-91d51.csv\n"
     ]
    }
   ],
   "source": [
    "%%bash\n",
    "aws s3 ls s3://databeanstalk-community/data/"
   ]
  },
  {
   "cell_type": "markdown",
   "metadata": {},
   "source": [
    "Load dataset file from DatabeanStalk community s3 bucket"
   ]
  },
  {
   "cell_type": "code",
   "execution_count": 6,
   "metadata": {},
   "outputs": [
    {
     "data": {
      "application/vnd.jupyter.widget-view+json": {
       "model_id": "",
       "version_major": 2,
       "version_minor": 0
      },
      "text/plain": [
       "FloatProgress(value=0.0, bar_style='info', description='Progress:', layout=Layout(height='25px', width='50%'),…"
      ]
     },
     "metadata": {},
     "output_type": "display_data"
    }
   ],
   "source": [
    "stockDF = spark.read.option(\"header\", \"true\").csv(\"s3a://databeanstalk-community/data/sbux/Starbucks_stock_history.csv\")"
   ]
  },
  {
   "cell_type": "markdown",
   "metadata": {},
   "source": [
    "Show top 20 records from dataframe"
   ]
  },
  {
   "cell_type": "code",
   "execution_count": 7,
   "metadata": {},
   "outputs": [
    {
     "data": {
      "application/vnd.jupyter.widget-view+json": {
       "model_id": "",
       "version_major": 2,
       "version_minor": 0
      },
      "text/plain": [
       "FloatProgress(value=0.0, bar_style='info', description='Progress:', layout=Layout(height='25px', width='50%'),…"
      ]
     },
     "metadata": {},
     "output_type": "display_data"
    },
    {
     "name": "stdout",
     "output_type": "stream",
     "text": [
      "+----------+-------------------+-------------------+-------------------+-------------------+---------+---------+------------+\n",
      "|      Date|               Open|               High|                Low|              Close|   Volume|Dividends|Stock Splits|\n",
      "+----------+-------------------+-------------------+-------------------+-------------------+---------+---------+------------+\n",
      "|1992-06-26|0.27095749793807056|0.28708572355422685| 0.2645065473098796|0.27740928530693054|224358400|      0.0|         0.0|\n",
      "|1992-06-29| 0.2806347756834878| 0.3032147908705047|0.27418301229547226|0.29676300287246704| 58732800|      0.0|         0.0|\n",
      "|1992-06-30| 0.3032148120045705| 0.3064402755530177|  0.283860283402198|0.28708577156066895| 34777600|      0.0|         0.0|\n",
      "|1992-07-01| 0.2903120638630587| 0.2967630153925027| 0.2806347875230951|0.29353752732276917| 18316800|      0.0|         0.0|\n",
      "|1992-07-02| 0.2967630153925027| 0.2967630153925027| 0.2870857636625623|0.29353752732276917| 13996800|      0.0|         0.0|\n",
      "|1992-07-06| 0.2903120638630587|0.29353752732276917| 0.2870857636625623|0.29353752732276917|  5753600|      0.0|         0.0|\n",
      "|1992-07-07|0.29353752732276917|0.29353752732276917| 0.2870857636625623|0.29353752732276917| 10662400|      0.0|         0.0|\n",
      "|1992-07-08|0.29353753539837235|0.29353753539837235|  0.283860283402198|0.28708577156066895| 15500800|      0.0|         0.0|\n",
      "|1992-07-09|0.29031205161518003|0.29676300287246704| 0.2870857515507969|0.29676300287246704|  3923200|      0.0|         0.0|\n",
      "|1992-07-10|0.29676302010354977|0.30321480847620047| 0.2903120684716983| 0.2999885082244873| 11040000|      0.0|         0.0|\n",
      "|1992-07-13|0.29998847121753547|0.30644023418426514| 0.2967629834944982|0.30644023418426514|  5996800|      0.0|         0.0|\n",
      "|1992-07-14|0.30644023418426514| 0.3161175094840526|0.30321477107124833|0.30644023418426514| 17062400|      0.0|         0.0|\n",
      "|1992-07-15|0.30966579559337654| 0.3161175847053528|0.30644030710282283| 0.3161175847053528|  4992000|      0.0|         0.0|\n",
      "|1992-07-16| 0.3161175868996269| 0.3419230700448658| 0.3128912862558096|  0.337084025144577| 17062400|      0.0|         0.0|\n",
      "|1992-07-17| 0.3386967532495212|0.36127674680503874| 0.3290203127821622|0.35482579469680786| 15667200|      0.0|         0.0|\n",
      "|1992-07-20| 0.3532122254174934|  0.361276758711939| 0.3451485288639365|0.35805127024650574| 19744000|      0.0|         0.0|\n",
      "|1992-07-21|0.36127668619155884|0.36772847395819697| 0.3548257351656413|0.36127668619155884|  7782400|      0.0|         0.0|\n",
      "|1992-07-22|0.35805127024650574|  0.361276758711939|0.34837401732936973|0.35805127024650574| 10892800|      0.0|         0.0|\n",
      "|1992-07-23| 0.3580513034219606| 0.3645022809505462|0.35159953837246577|0.36450228095054626| 10387200|      0.0|         0.0|\n",
      "|1992-07-24|0.35805128328342933|0.37095402513579734| 0.3548258193105806| 0.3677285611629486|  7052800|      0.0|         0.0|\n",
      "+----------+-------------------+-------------------+-------------------+-------------------+---------+---------+------------+\n",
      "only showing top 20 rows"
     ]
    }
   ],
   "source": [
    "stockDF.show()"
   ]
  },
  {
   "cell_type": "markdown",
   "metadata": {},
   "source": [
    "Create SQL table from dataframe to analysis data using query."
   ]
  },
  {
   "cell_type": "code",
   "execution_count": 8,
   "metadata": {},
   "outputs": [
    {
     "data": {
      "application/vnd.jupyter.widget-view+json": {
       "model_id": "",
       "version_major": 2,
       "version_minor": 0
      },
      "text/plain": [
       "FloatProgress(value=0.0, bar_style='info', description='Progress:', layout=Layout(height='25px', width='50%'),…"
      ]
     },
     "metadata": {},
     "output_type": "display_data"
    }
   ],
   "source": [
    "stockDF.createOrReplaceTempView(\"stockData\");"
   ]
  },
  {
   "cell_type": "markdown",
   "metadata": {},
   "source": [
    "Check above table create in default database."
   ]
  },
  {
   "cell_type": "markdown",
   "metadata": {},
   "source": [
    "Run sql query from data_table to view analyze data"
   ]
  },
  {
   "cell_type": "code",
   "execution_count": 9,
   "metadata": {},
   "outputs": [
    {
     "data": {
      "application/vnd.jupyter.widget-view+json": {
       "model_id": "",
       "version_major": 2,
       "version_minor": 0
      },
      "text/plain": [
       "FloatProgress(value=0.0, bar_style='info', description='Progress:', layout=Layout(height='25px', width='50%'),…"
      ]
     },
     "metadata": {},
     "output_type": "display_data"
    },
    {
     "data": {
      "application/vnd.jupyter.widget-view+json": {
       "model_id": "71d6bcdb9cf143d29fc677b5b11d320b",
       "version_major": 2,
       "version_minor": 0
      },
      "text/plain": [
       "VBox(children=(HBox(children=(HTML(value='Type:'), Button(description='Table', layout=Layout(width='70px'), st…"
      ]
     },
     "metadata": {},
     "output_type": "display_data"
    },
    {
     "data": {
      "application/vnd.jupyter.widget-view+json": {
       "model_id": "6f15741ffdf341ffb4669cfc9e487350",
       "version_major": 2,
       "version_minor": 0
      },
      "text/plain": [
       "Output()"
      ]
     },
     "metadata": {},
     "output_type": "display_data"
    }
   ],
   "source": [
    "%%sql\n",
    "select * from stockData with limit 10;"
   ]
  },
  {
   "cell_type": "code",
   "execution_count": null,
   "metadata": {},
   "outputs": [],
   "source": []
  }
 ],
 "metadata": {
  "kernelspec": {
   "display_name": "PySpark",
   "language": "",
   "name": "pysparkkernel"
  },
  "language_info": {
   "codemirror_mode": {
    "name": "python",
    "version": 3
   },
   "mimetype": "text/x-python",
   "name": "pyspark",
   "pygments_lexer": "python3"
  }
 },
 "nbformat": 4,
 "nbformat_minor": 4
}
