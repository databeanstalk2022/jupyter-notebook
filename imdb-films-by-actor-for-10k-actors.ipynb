{
 "cells": [
  {
   "cell_type": "code",
   "execution_count": null,
   "id": "0a5ea910-1344-43d6-a7b6-b992831b5663",
   "metadata": {},
   "outputs": [],
   "source": [
    "sc"
   ]
  },
  {
   "cell_type": "code",
   "execution_count": null,
   "id": "7483ea71-6c8c-4504-b551-e75dca53031f",
   "metadata": {},
   "outputs": [],
   "source": [
    "%%bash\n",
    "aws s3 ls s3://databeanstalk-community/data/FilmActor/"
   ]
  },
  {
   "cell_type": "code",
   "execution_count": null,
   "id": "6845c9f0",
   "metadata": {
    "papermill": {
     "duration": 0.471644,
     "end_time": "2021-11-09T10:38:58.060927",
     "exception": false,
     "start_time": "2021-11-09T10:38:57.589283",
     "status": "completed"
    },
    "tags": []
   },
   "outputs": [],
   "source": [
    "data = spark.read.option(\"header\", \"true\").csv(\"s3a://databeanstalk-community/data/FilmActor/actorfilms.csv\")"
   ]
  },
  {
   "cell_type": "code",
   "execution_count": null,
   "id": "91b82b3b",
   "metadata": {
    "papermill": {
     "duration": 0.039202,
     "end_time": "2021-11-09T10:38:58.112517",
     "exception": false,
     "start_time": "2021-11-09T10:38:58.073315",
     "status": "completed"
    },
    "tags": []
   },
   "outputs": [],
   "source": [
    "data.head()"
   ]
  },
  {
   "cell_type": "code",
   "execution_count": null,
   "id": "f4c42d22",
   "metadata": {
    "papermill": {
     "duration": 0.124874,
     "end_time": "2021-11-09T10:38:58.249367",
     "exception": false,
     "start_time": "2021-11-09T10:38:58.124493",
     "status": "completed"
    },
    "tags": []
   },
   "outputs": [],
   "source": [
    "data.info()"
   ]
  },
  {
   "cell_type": "code",
   "execution_count": null,
   "id": "48be7966",
   "metadata": {
    "papermill": {
     "duration": 0.107451,
     "end_time": "2021-11-09T10:38:58.368344",
     "exception": false,
     "start_time": "2021-11-09T10:38:58.260893",
     "status": "completed"
    },
    "tags": []
   },
   "outputs": [],
   "source": [
    "data.isnull().sum()"
   ]
  },
  {
   "cell_type": "code",
   "execution_count": null,
   "id": "d8bb20a6",
   "metadata": {
    "papermill": {
     "duration": 0.049666,
     "end_time": "2021-11-09T10:38:58.429656",
     "exception": false,
     "start_time": "2021-11-09T10:38:58.379990",
     "status": "completed"
    },
    "tags": []
   },
   "outputs": [],
   "source": [
    "data[\"Actor\"].value_counts()"
   ]
  },
  {
   "cell_type": "code",
   "execution_count": null,
   "id": "771104a2",
   "metadata": {
    "papermill": {
     "duration": 0.020072,
     "end_time": "2021-11-09T10:38:58.461744",
     "exception": false,
     "start_time": "2021-11-09T10:38:58.441672",
     "status": "completed"
    },
    "tags": []
   },
   "outputs": [],
   "source": [
    "# recommending movies with actor name\n",
    "\n",
    "def recommending_movies_with_actor(actor_name):\n",
    "  a = data[data[\"Actor\"] == actor_name]\n",
    "\n",
    "  movies = a[[\"Film\",\"Year\", \"Rating\"]].sort_values(by= \"Year\", ascending = False)\n",
    "\n",
    "  return movies"
   ]
  },
  {
   "cell_type": "code",
   "execution_count": null,
   "id": "ecc3eea5",
   "metadata": {
    "papermill": {
     "duration": 0.062418,
     "end_time": "2021-11-09T10:38:58.536029",
     "exception": false,
     "start_time": "2021-11-09T10:38:58.473611",
     "status": "completed"
    },
    "tags": []
   },
   "outputs": [],
   "source": [
    "recommending_movies_with_actor(\"Eric Roberts\")"
   ]
  },
  {
   "cell_type": "code",
   "execution_count": null,
   "id": "4e83a014",
   "metadata": {
    "papermill": {
     "duration": 0.020628,
     "end_time": "2021-11-09T10:38:58.569369",
     "exception": false,
     "start_time": "2021-11-09T10:38:58.548741",
     "status": "completed"
    },
    "tags": []
   },
   "outputs": [],
   "source": [
    "# actors in the film\n",
    "\n",
    "def actors_in_the_movie(movie_name):\n",
    "  a = data[data[\"Film\"] == movie_name]\n",
    "\n",
    "  actors = a[[\"Actor\", \"Year\", \"Rating\"]]\n",
    "\n",
    "  return actors"
   ]
  },
  {
   "cell_type": "code",
   "execution_count": null,
   "id": "454353d1",
   "metadata": {
    "papermill": {
     "duration": 0.05716,
     "end_time": "2021-11-09T10:38:58.639337",
     "exception": false,
     "start_time": "2021-11-09T10:38:58.582177",
     "status": "completed"
    },
    "tags": []
   },
   "outputs": [],
   "source": [
    "actors_in_the_movie(\"King of the Gypsies\")"
   ]
  },
  {
   "cell_type": "code",
   "execution_count": null,
   "id": "7d368db3",
   "metadata": {
    "papermill": {
     "duration": 0.021297,
     "end_time": "2021-11-09T10:38:58.673750",
     "exception": false,
     "start_time": "2021-11-09T10:38:58.652453",
     "status": "completed"
    },
    "tags": []
   },
   "outputs": [],
   "source": [
    "# movies releases in a year\n",
    "\n",
    "def movie_releases_in_the_year(year):\n",
    "  a = data[data[\"Year\"] == year]\n",
    "\n",
    "  releases_in_the_year = a[[\"Film\", \"Rating\"]].sort_values(by =\"Rating\", ascending = False)\n",
    "\n",
    "  return releases_in_the_year"
   ]
  },
  {
   "cell_type": "code",
   "execution_count": null,
   "id": "3f9e4ed0",
   "metadata": {
    "papermill": {
     "duration": 0.03235,
     "end_time": "2021-11-09T10:38:58.719249",
     "exception": false,
     "start_time": "2021-11-09T10:38:58.686899",
     "status": "completed"
    },
    "tags": []
   },
   "outputs": [],
   "source": [
    "movie_releases_in_the_year(2001)"
   ]
  },
  {
   "cell_type": "code",
   "execution_count": null,
   "id": "d56ea1bc",
   "metadata": {
    "papermill": {
     "duration": 0.013447,
     "end_time": "2021-11-09T10:38:58.746398",
     "exception": false,
     "start_time": "2021-11-09T10:38:58.732951",
     "status": "completed"
    },
    "tags": []
   },
   "outputs": [],
   "source": []
  }
 ],
 "metadata": {
  "kernelspec": {
   "display_name": "PySpark",
   "language": "",
   "name": "pysparkkernel"
  },
  "language_info": {
   "codemirror_mode": {
    "name": "python",
    "version": 3
   },
   "mimetype": "text/x-python",
   "name": "pyspark",
   "pygments_lexer": "python3"
  },
  "papermill": {
   "default_parameters": {},
   "duration": 10.735021,
   "end_time": "2021-11-09T10:38:59.369045",
   "environment_variables": {},
   "exception": null,
   "input_path": "__notebook__.ipynb",
   "output_path": "__notebook__.ipynb",
   "parameters": {},
   "start_time": "2021-11-09T10:38:48.634024",
   "version": "2.3.3"
  }
 },
 "nbformat": 4,
 "nbformat_minor": 5
}
